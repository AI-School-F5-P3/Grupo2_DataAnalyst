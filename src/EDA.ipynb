{
 "cells": [
  {
   "cell_type": "code",
   "execution_count": 33,
   "metadata": {},
   "outputs": [],
   "source": [
    "#Librerías\n",
    "import pandas as pd\n",
    "import os\n",
    "import seaborn as sns\n",
    "import matplotlib.pyplot as plt"
   ]
  },
  {
   "cell_type": "markdown",
   "metadata": {},
   "source": [
    "Cargar datos"
   ]
  },
  {
   "cell_type": "code",
   "execution_count": 34,
   "metadata": {},
   "outputs": [
    {
     "name": "stdout",
     "output_type": "stream",
     "text": [
      "Se cargaron 6 archivos (CSV y Excel).\n"
     ]
    }
   ],
   "source": [
    "# Definir la ruta de la carpeta donde están los archivos CSV y Excel\n",
    "carpeta_csv = 'C:/Users/Administrator/Desktop/Proyecto_Track Data Analyst_Analisis y visualización de datos/Grupo2_DataAnalyst/raw_data'\n",
    "\n",
    "# Crear una lista para almacenar los DataFrames\n",
    "dataframes = []\n",
    "\n",
    "# Recorrer todos los archivos en la carpeta\n",
    "for archivo in os.listdir(carpeta_csv):\n",
    "    # Construir la ruta completa del archivo\n",
    "    ruta_completa = os.path.join(carpeta_csv, archivo)\n",
    "    \n",
    "    # Verificar si el archivo es un CSV\n",
    "    if archivo.endswith(\".csv\"):\n",
    "        df = pd.read_csv(ruta_completa)\n",
    "        dataframes.append(df)\n",
    "    \n",
    "    # Verificar si el archivo es un Excel (.xlsx)\n",
    "    elif archivo.endswith(\".xlsx\"):\n",
    "        df = pd.read_excel(ruta_completa)\n",
    "        dataframes.append(df)\n",
    "\n",
    "# Verificar cuántos DataFrames fueron cargados\n",
    "print(f\"Se cargaron {len(dataframes)} archivos (CSV y Excel).\")\n"
   ]
  },
  {
   "cell_type": "markdown",
   "metadata": {},
   "source": [
    "# EDA"
   ]
  },
  {
   "cell_type": "markdown",
   "metadata": {},
   "source": [
    "### Acceder a los Dataframes\n"
   ]
  },
  {
   "cell_type": "code",
   "execution_count": 35,
   "metadata": {},
   "outputs": [],
   "source": [
    "# Acceder a los DataFrames por índice\n",
    "df_london = dataframes[0]   \n",
    "df_madrid = dataframes[1]  \n",
    "df_milan = dataframes[2]\n",
    "df_NY = dataframes[3]\n",
    "df_sydney = dataframes[4]\n",
    "df_tokyo = dataframes[5]"
   ]
  },
  {
   "cell_type": "markdown",
   "metadata": {},
   "source": [
    "### Estudio de features"
   ]
  },
  {
   "cell_type": "markdown",
   "metadata": {},
   "source": [
    "En la siguiente celda vamos a analizar el número de features y el nombre de las mismas que tenemos en cada dataframe, para ver si hay alguna que falta dependiendo de la ciudad y ver como tratarlas"
   ]
  },
  {
   "cell_type": "code",
   "execution_count": 36,
   "metadata": {},
   "outputs": [
    {
     "name": "stdout",
     "output_type": "stream",
     "text": [
      "Número de columnas df_london: 16\n",
      "Nombres de las columnas df_london: Index(['id', 'name', 'host_id', 'host_name', 'neighbourhood_group',\n",
      "       'neighbourhood', 'latitude', 'longitude', 'room_type', 'price',\n",
      "       'minimum_nights', 'number_of_reviews', 'last_review',\n",
      "       'reviews_per_month', 'calculated_host_listings_count',\n",
      "       'availability_365'],\n",
      "      dtype='object')\n",
      "Número de columnas df_madrid: 16\n",
      "Nombres de las columnas df_madrid: Index(['id', 'name', 'host_id', 'host_name', 'neighbourhood_group',\n",
      "       'neighbourhood', 'latitude', 'longitude', 'room_type', 'price',\n",
      "       'minimum_nights', 'number_of_reviews', 'last_review',\n",
      "       'reviews_per_month', 'calculated_host_listings_count',\n",
      "       'availability_365'],\n",
      "      dtype='object')\n",
      "Número de columnas df_milan: 15\n",
      "Nombres de las columnas df_milan: Index(['id', 'name', 'host_id', 'host_name', 'neighbourhood', 'latitude',\n",
      "       'longitude', 'room_type', 'price', 'minimum_nights',\n",
      "       'number_of_reviews', 'last_review', 'reviews_per_month',\n",
      "       'calculated_host_listings_count', 'availability_365'],\n",
      "      dtype='object')\n",
      "Número de columnas df_NY: 16\n",
      "Nombres de las columnas df_NY: Index(['id', 'name', 'host_id', 'host_name', 'neighbourhood_group',\n",
      "       'neighbourhood', 'latitude', 'longitude', 'room_type', 'price',\n",
      "       'minimum_nights', 'number_of_reviews', 'last_review',\n",
      "       'reviews_per_month', 'calculated_host_listings_count',\n",
      "       'availability_365'],\n",
      "      dtype='object')\n",
      "Número de columnas df_sydney: 16\n",
      "Nombres de las columnas df_sydney: Index(['id', 'name', 'host_id', 'host_name', 'neighbourhood_group',\n",
      "       'neighbourhood', 'latitude', 'longitude', 'room_type', 'price',\n",
      "       'minimum_nights', 'number_of_reviews', 'last_review',\n",
      "       'reviews_per_month', 'calculated_host_listings_count',\n",
      "       'availability_365'],\n",
      "      dtype='object')\n",
      "Número de columnas df_tokyo: 14\n",
      "Nombres de las columnas df_tokyo: Index(['id', 'name', 'host_id', 'host_name', 'neighbourhood_group',\n",
      "       'neighbourhood', 'latitude', 'longitude', 'room_type', 'price',\n",
      "       'minimum_nights', 'number_of_reviews', 'last_review',\n",
      "       'reviews_per_month'],\n",
      "      dtype='object')\n"
     ]
    }
   ],
   "source": [
    "# Contar el número de columnas\n",
    "num_columnas = df_london.shape[1]\n",
    "print(f\"Número de columnas df_london: {num_columnas}\")\n",
    "\n",
    "# Obtener los nombres de las columnas\n",
    "nombres_columnas = df_london.columns\n",
    "print(f\"Nombres de las columnas df_london: {nombres_columnas}\")\n",
    "\n",
    "# Contar el número de columnas\n",
    "num_columnas = df_madrid.shape[1]\n",
    "print(f\"Número de columnas df_madrid: {num_columnas}\")\n",
    "\n",
    "# Obtener los nombres de las columnas\n",
    "nombres_columnas = df_madrid.columns\n",
    "print(f\"Nombres de las columnas df_madrid: {nombres_columnas}\")\n",
    "\n",
    "# Contar el número de columnas\n",
    "num_columnas = df_milan.shape[1]\n",
    "print(f\"Número de columnas df_milan: {num_columnas}\")\n",
    "\n",
    "# Obtener los nombres de las columnas\n",
    "nombres_columnas = df_milan.columns\n",
    "print(f\"Nombres de las columnas df_milan: {nombres_columnas}\")\n",
    "\n",
    "# Contar el número de columnas\n",
    "num_columnas =df_NY.shape[1]\n",
    "print(f\"Número de columnas df_NY: {num_columnas}\")\n",
    "\n",
    "# Obtener los nombres de las columnas\n",
    "nombres_columnas =df_NY.columns\n",
    "print(f\"Nombres de las columnas df_NY: {nombres_columnas}\")\n",
    "\n",
    "# Contar el número de columnas\n",
    "num_columnas =df_sydney.shape[1]\n",
    "print(f\"Número de columnas df_sydney: {num_columnas}\")\n",
    "\n",
    "# Obtener los nombres de las columnas\n",
    "nombres_columnas =df_sydney.columns\n",
    "print(f\"Nombres de las columnas df_sydney: {nombres_columnas}\")\n",
    "\n",
    "# Contar el número de columnas\n",
    "num_columnas =df_tokyo.shape[1]\n",
    "print(f\"Número de columnas df_tokyo: {num_columnas}\")\n",
    "\n",
    "# Obtener los nombres de las columnas\n",
    "nombres_columnas =df_tokyo.columns\n",
    "print(f\"Nombres de las columnas df_tokyo: {nombres_columnas}\")\n"
   ]
  },
  {
   "cell_type": "markdown",
   "metadata": {},
   "source": [
    "Añadimos una feature 'city' para saber reconocer a que ciudad corresponden los datos en el df_final."
   ]
  },
  {
   "cell_type": "code",
   "execution_count": 37,
   "metadata": {},
   "outputs": [],
   "source": [
    "# Añadir la columna 'city' a cada DataFrame\n",
    "df_london1['city'] = 'London'\n",
    "df_london2['city'] = 'London'\n",
    "df_madrid['city'] = 'Madrid'\n",
    "df_milan1['city'] = 'Milan'\n",
    "df_milan2['city'] = 'Milan'\n",
    "df_NY['city'] = 'New York'\n",
    "df_sydney['city'] = 'Sidney'\n",
    "df_tokyo['city'] = 'Tokyo'"
   ]
  },
  {
   "cell_type": "markdown",
   "metadata": {},
   "source": [
    "Buscamos las features comunes entre los df y las no comunes."
   ]
  },
  {
   "cell_type": "code",
   "execution_count": 38,
   "metadata": {},
   "outputs": [
    {
     "name": "stdout",
     "output_type": "stream",
     "text": [
      "Columnas comunes en todos los DataFrames: {'last_review', 'number_of_reviews', 'host_name', 'name', 'latitude', 'reviews_per_month', 'price', 'host_id', 'city', 'minimum_nights', 'room_type', 'longitude', 'id', 'neighbourhood_group', 'neighbourhood'}\n"
     ]
    }
   ],
   "source": [
    "# Listado de todos tus DataFrames\n",
    "dataframes = [df_london1,df_london2,df_madrid, df_milan1,df_milan2, df_sydney, df_tokyo, df_NY]  # Añade todos tus DataFrames aquí\n",
    "\n",
    "# Obtener las columnas comunes en todos los DataFrames\n",
    "columnas_comunes = set(dataframes[0].columns)  # Comenzamos con las columnas del primer DataFrame\n",
    "\n",
    "for df in dataframes[1:]:\n",
    "    columnas_comunes.intersection_update(df.columns)  # Hacer intersección con las columnas de los siguientes DataFrames\n",
    "\n",
    "print(f\"Columnas comunes en todos los DataFrames: {columnas_comunes}\")\n"
   ]
  },
  {
   "cell_type": "code",
   "execution_count": 39,
   "metadata": {},
   "outputs": [
    {
     "name": "stdout",
     "output_type": "stream",
     "text": [
      "Columnas no comunes en todos los DataFrames: {'availability_365', 'calculated_host_listings_count'}\n"
     ]
    }
   ],
   "source": [
    "# Crear un conjunto con todas las columnas\n",
    "todas_las_columnas = set(dataframes[0].columns)\n",
    "for df in dataframes[1:]:\n",
    "    todas_las_columnas.update(df.columns)  # Añadir columnas de cada DataFrame\n",
    "\n",
    "# Columnas no comunes\n",
    "columnas_no_comunes = todas_las_columnas - columnas_comunes\n",
    "print(f\"Columnas no comunes en todos los DataFrames: {columnas_no_comunes}\")\n"
   ]
  },
  {
   "cell_type": "markdown",
   "metadata": {},
   "source": [
    "Obtenemos el conjunto de todas las features presentes en cualquier Dataframe y le agregamos a las features faltantes de cada dataframe el valor 'sin datos', para poder diferenciarlo en un futuro cuando estemos trabajando con un único df_final que albergue todos los datos."
   ]
  },
  {
   "cell_type": "code",
   "execution_count": 40,
   "metadata": {},
   "outputs": [],
   "source": [
    "# Obtener el conjunto completo de todas las columnas presentes en cualquier DataFrame\n",
    "todas_las_columnas = set()\n",
    "for df in dataframes:\n",
    "    todas_las_columnas.update(df.columns)\n",
    "\n",
    "# Agregar las columnas faltantes en cada DataFrame con valor 'sin datos'\n",
    "for i, df in enumerate(dataframes):\n",
    "    columnas_faltantes = todas_las_columnas - set(df.columns)  # Columnas que faltan en este DataFrame\n",
    "    for columna in columnas_faltantes:\n",
    "        df[columna] = 'sin datos'  # Rellenar con 'sin datos'"
   ]
  },
  {
   "cell_type": "markdown",
   "metadata": {},
   "source": [
    "Cambiamos la feature 'price' a una moneda en común €"
   ]
  },
  {
   "cell_type": "code",
   "execution_count": 41,
   "metadata": {},
   "outputs": [
    {
     "name": "stdout",
     "output_type": "stream",
     "text": [
      "Primeros 5 precios convertidos para EUR:\n",
      "   price  price(€)\n",
      "0    100     100.0\n",
      "1    150     150.0\n",
      "2    180     180.0\n",
      "3     75      75.0\n",
      "4     71      71.0\n",
      "\n",
      "\n",
      "Primeros 5 precios convertidos para JPY:\n",
      "   price  price(€)\n",
      "0   4196     28.62\n",
      "1  10975     74.85\n",
      "2   4196     28.62\n",
      "3   6994     47.70\n",
      "4   3981     27.15\n",
      "\n",
      "\n",
      "Primeros 5 precios convertidos para AUD:\n",
      "   price  price(€)\n",
      "0    100     61.23\n",
      "1    471    288.41\n",
      "2    109     66.75\n",
      "3    450    275.55\n",
      "4     62     37.97\n",
      "\n",
      "\n",
      "Primeros 5 precios convertidos para EUR:\n",
      "   price  price(€)\n",
      "0     60      60.0\n",
      "1     31      31.0\n",
      "2     50      50.0\n",
      "3     92      92.0\n",
      "4     26      26.0\n",
      "\n",
      "\n",
      "Primeros 5 precios convertidos para GBP:\n",
      "   price  price(€)\n",
      "0     88    105.81\n",
      "1     65     78.16\n",
      "2    105    126.25\n",
      "3    100    120.24\n",
      "4     77     92.59\n",
      "\n",
      "\n",
      "Primeros 5 precios convertidos para USD:\n",
      "   price  price(€)\n",
      "0    149    136.18\n",
      "1    225    205.65\n",
      "2    150    137.10\n",
      "3     89     81.34\n",
      "4     80     73.12\n",
      "\n",
      "\n"
     ]
    }
   ],
   "source": [
    "# Diccionario de tasas de cambio a EUR (actualiza estos valores con tasas reales)\n",
    "exchange_rates = {\n",
    "    'USD': 0.91398,  # New York\n",
    "    'GBP': 1.20242,  # London\n",
    "    'JPY': 0.00682,  # Tokyo\n",
    "    'AUD': 0.61234,  # Sydney\n",
    "    'EUR': 1.0       # Madrid, Milan (ya están en euros)\n",
    "}\n",
    "\n",
    "# Función para convertir precios a EUR\n",
    "def convert_to_eur(price, currency):\n",
    "    return price * exchange_rates[currency]\n",
    "\n",
    "# Lista de DataFrames y sus monedas correspondientes\n",
    "city_data = [\n",
    "    (df_milan, 'EUR'),\n",
    "    (df_tokyo, 'JPY'),\n",
    "    (df_sydney, 'AUD'),\n",
    "    (df_madrid, 'EUR'),\n",
    "    (df_london, 'GBP'),\n",
    "    (df_NY, 'USD')\n",
    "]\n",
    "\n",
    "# Convertir precios a EUR para cada DataFrame\n",
    "for df, currency in city_data:\n",
    "    df['price(€)'] = df['price'].apply(lambda x: convert_to_eur(x, currency))\n",
    "    \n",
    "    # Redondear a 2 decimales\n",
    "    df['price(€)'] = df['price(€)'].round(2)\n",
    "\n",
    "  \n",
    "    # Opcional: eliminar la columna original 'price'\n",
    "    # df.drop('price', axis=1, inplace=True)\n",
    "\n",
    "# Ejemplo de cómo verificar la conversión\n",
    "for df, currency in city_data:\n",
    "    print(f\"Primeros 5 precios convertidos para {currency}:\")\n",
    "    print(df[['price', 'price(€)']].head())\n",
    "    print(\"\\n\")\n"
   ]
  },
  {
   "cell_type": "markdown",
   "metadata": {},
   "source": [
    "### Unir en un único df_final"
   ]
  },
  {
   "cell_type": "markdown",
   "metadata": {},
   "source": [
    "Unimos todos los df, en un df_final para que sea más facil el estudio de los datos."
   ]
  },
  {
   "cell_type": "code",
   "execution_count": 42,
   "metadata": {},
   "outputs": [
    {
     "name": "stdout",
     "output_type": "stream",
     "text": [
      "              id                                               name   host_id  \\\n",
      "0           6400                                   The Studio Milan     13822   \n",
      "1          23986                    \" Characteristic Milanese flat\"     95941   \n",
      "2          28300                            nice flat near the park    121663   \n",
      "3          32119                 Nico & Cynthia's Easy Yellow Suite    138683   \n",
      "4          32649                      Nico&Cinzia's Red Easy Suite!    138683   \n",
      "...          ...                                                ...       ...   \n",
      "220026  36484665    Charming one bedroom - newly renovated rowhouse   8232441   \n",
      "220027  36485057      Affordable room in Bushwick/East Williamsburg   6570630   \n",
      "220028  36485431            Sunny Studio at Historical Neighborhood  23492952   \n",
      "220029  36485609               43rd St. Time Square-cozy single bed  30985759   \n",
      "220030  36487245  Trendy duplex in the very heart of Hell's Kitchen  68119814   \n",
      "\n",
      "            host_name       neighbourhood  latitude  longitude  \\\n",
      "0           Francesca             TIBALDI  45.44119    9.17813   \n",
      "1              Jeremy             NAVIGLI  45.44806    9.17373   \n",
      "2               Marta               SARPI  45.47647    9.17359   \n",
      "3         Nico&Cinzia         VIALE MONZA  45.52014    9.22300   \n",
      "4         Nico&Cinzia         VIALE MONZA  45.51874    9.22495   \n",
      "...               ...                 ...       ...        ...   \n",
      "220026        Sabrina  Bedford-Stuyvesant  40.67853  -73.94995   \n",
      "220027        Marisol            Bushwick  40.70184  -73.93317   \n",
      "220028  Ilgar & Aysel              Harlem  40.81475  -73.94867   \n",
      "220029            Taz      Hell's Kitchen  40.75751  -73.99112   \n",
      "220030     Christophe      Hell's Kitchen  40.76404  -73.98933   \n",
      "\n",
      "              room_type  price  minimum_nights  number_of_reviews last_review  \\\n",
      "0          Private room    100               4                 12    19/04/10   \n",
      "1       Entire home/apt    150               1                 15    07/09/20   \n",
      "2          Private room    180               1                  8    22/04/12   \n",
      "3       Entire home/apt     75               2                 15    01/07/18   \n",
      "4       Entire home/apt     71               2                 29    23/10/16   \n",
      "...                 ...    ...             ...                ...         ...   \n",
      "220026     Private room     70               2                  0         NaN   \n",
      "220027     Private room     40               4                  0         NaN   \n",
      "220028  Entire home/apt    115              10                  0         NaN   \n",
      "220029      Shared room     55               1                  0         NaN   \n",
      "220030     Private room     90               7                  0         NaN   \n",
      "\n",
      "        reviews_per_month calculated_host_listings_count availability_365  \\\n",
      "0                    0.14                              1              358   \n",
      "1                    0.21                              1              363   \n",
      "2                    0.11                              1              365   \n",
      "3                    0.23                              3              200   \n",
      "4                    0.71                              3              308   \n",
      "...                   ...                            ...              ...   \n",
      "220026                NaN                              2                9   \n",
      "220027                NaN                              2               36   \n",
      "220028                NaN                              1               27   \n",
      "220029                NaN                              6                2   \n",
      "220030                NaN                              1               23   \n",
      "\n",
      "        price(€) neighbourhood_group      city  \n",
      "0         100.00                 NaN       NaN  \n",
      "1         150.00                 NaN       NaN  \n",
      "2         180.00                 NaN       NaN  \n",
      "3          75.00                 NaN       NaN  \n",
      "4          71.00                 NaN       NaN  \n",
      "...          ...                 ...       ...  \n",
      "220026     63.98            Brooklyn  New York  \n",
      "220027     36.56            Brooklyn  New York  \n",
      "220028    105.11           Manhattan  New York  \n",
      "220029     50.27           Manhattan  New York  \n",
      "220030     82.26           Manhattan  New York  \n",
      "\n",
      "[220031 rows x 18 columns]\n"
     ]
    }
   ],
   "source": [
    "# Unir todos los DataFrames en uno solo\n",
    "df_final = pd.concat([df for df, currency in city_data], ignore_index=True)\n",
    "\n",
    "# Verificar el DataFrame final\n",
    "print(df_final)"
   ]
  },
  {
   "cell_type": "markdown",
   "metadata": {},
   "source": [
    "Transformamos la feature 'last_review' a formato datatime."
   ]
  },
  {
   "cell_type": "code",
   "execution_count": 43,
   "metadata": {},
   "outputs": [
    {
     "name": "stderr",
     "output_type": "stream",
     "text": [
      "C:\\Users\\Administrator\\AppData\\Local\\Temp\\ipykernel_12684\\4135667853.py:2: UserWarning: Could not infer format, so each element will be parsed individually, falling back to `dateutil`. To ensure parsing is consistent and as-expected, please specify a format.\n",
      "  df_final['last_review'] = pd.to_datetime(df_final['last_review'], errors='coerce')\n"
     ]
    },
    {
     "name": "stdout",
     "output_type": "stream",
     "text": [
      "              id                                               name   host_id  \\\n",
      "0           6400                                   The Studio Milan     13822   \n",
      "1          23986                    \" Characteristic Milanese flat\"     95941   \n",
      "2          28300                            nice flat near the park    121663   \n",
      "3          32119                 Nico & Cynthia's Easy Yellow Suite    138683   \n",
      "4          32649                      Nico&Cinzia's Red Easy Suite!    138683   \n",
      "...          ...                                                ...       ...   \n",
      "220026  36484665    Charming one bedroom - newly renovated rowhouse   8232441   \n",
      "220027  36485057      Affordable room in Bushwick/East Williamsburg   6570630   \n",
      "220028  36485431            Sunny Studio at Historical Neighborhood  23492952   \n",
      "220029  36485609               43rd St. Time Square-cozy single bed  30985759   \n",
      "220030  36487245  Trendy duplex in the very heart of Hell's Kitchen  68119814   \n",
      "\n",
      "            host_name       neighbourhood  latitude  longitude  \\\n",
      "0           Francesca             TIBALDI  45.44119    9.17813   \n",
      "1              Jeremy             NAVIGLI  45.44806    9.17373   \n",
      "2               Marta               SARPI  45.47647    9.17359   \n",
      "3         Nico&Cinzia         VIALE MONZA  45.52014    9.22300   \n",
      "4         Nico&Cinzia         VIALE MONZA  45.51874    9.22495   \n",
      "...               ...                 ...       ...        ...   \n",
      "220026        Sabrina  Bedford-Stuyvesant  40.67853  -73.94995   \n",
      "220027        Marisol            Bushwick  40.70184  -73.93317   \n",
      "220028  Ilgar & Aysel              Harlem  40.81475  -73.94867   \n",
      "220029            Taz      Hell's Kitchen  40.75751  -73.99112   \n",
      "220030     Christophe      Hell's Kitchen  40.76404  -73.98933   \n",
      "\n",
      "              room_type  price  minimum_nights  number_of_reviews last_review  \\\n",
      "0          Private room    100               4                 12  2010-04-19   \n",
      "1       Entire home/apt    150               1                 15  2020-07-09   \n",
      "2          Private room    180               1                  8  2012-04-22   \n",
      "3       Entire home/apt     75               2                 15  2018-01-07   \n",
      "4       Entire home/apt     71               2                 29  2016-10-23   \n",
      "...                 ...    ...             ...                ...         ...   \n",
      "220026     Private room     70               2                  0         NaT   \n",
      "220027     Private room     40               4                  0         NaT   \n",
      "220028  Entire home/apt    115              10                  0         NaT   \n",
      "220029      Shared room     55               1                  0         NaT   \n",
      "220030     Private room     90               7                  0         NaT   \n",
      "\n",
      "        reviews_per_month calculated_host_listings_count availability_365  \\\n",
      "0                    0.14                              1              358   \n",
      "1                    0.21                              1              363   \n",
      "2                    0.11                              1              365   \n",
      "3                    0.23                              3              200   \n",
      "4                    0.71                              3              308   \n",
      "...                   ...                            ...              ...   \n",
      "220026                NaN                              2                9   \n",
      "220027                NaN                              2               36   \n",
      "220028                NaN                              1               27   \n",
      "220029                NaN                              6                2   \n",
      "220030                NaN                              1               23   \n",
      "\n",
      "        price(€) neighbourhood_group      city  \n",
      "0         100.00                 NaN       NaN  \n",
      "1         150.00                 NaN       NaN  \n",
      "2         180.00                 NaN       NaN  \n",
      "3          75.00                 NaN       NaN  \n",
      "4          71.00                 NaN       NaN  \n",
      "...          ...                 ...       ...  \n",
      "220026     63.98            Brooklyn  New York  \n",
      "220027     36.56            Brooklyn  New York  \n",
      "220028    105.11           Manhattan  New York  \n",
      "220029     50.27           Manhattan  New York  \n",
      "220030     82.26           Manhattan  New York  \n",
      "\n",
      "[220031 rows x 18 columns]\n"
     ]
    }
   ],
   "source": [
    "# Convertir la columna 'last_review' a formato datetime\n",
    "df_final['last_review'] = pd.to_datetime(df_final['last_review'], errors='coerce')\n",
    "\n",
    "# Verificar si la conversión fue exitosa\n",
    "#print(df_final['last_review'].head())\n",
    "\n",
    "# Verificar el DataFrame final\n",
    "print(df_final)"
   ]
  },
  {
   "cell_type": "markdown",
   "metadata": {},
   "source": [
    "Generar un informe EDA"
   ]
  },
  {
   "cell_type": "code",
   "execution_count": 44,
   "metadata": {},
   "outputs": [
    {
     "name": "stderr",
     "output_type": "stream",
     "text": [
      "Summarize dataset: 100%|██████████| 109/109 [00:24<00:00,  4.39it/s, Completed]                                    \n",
      "Generate report structure: 100%|██████████| 1/1 [00:07<00:00,  7.76s/it]\n",
      "Render HTML: 100%|██████████| 1/1 [00:01<00:00,  1.98s/it]\n",
      "Export report to file: 100%|██████████| 1/1 [00:00<00:00, 38.47it/s]\n"
     ]
    }
   ],
   "source": [
    "from ydata_profiling import ProfileReport # librería de EDA automatizada que genera informes detallados\n",
    "\n",
    "# Generar informe de perfilado\n",
    "profile = ProfileReport(df_final, title=\"Informe EDA\")\n",
    "profile.to_file(\"eda_report.html\")"
   ]
  },
  {
   "cell_type": "markdown",
   "metadata": {},
   "source": [
    "### Estudio de valores Nulos en df_final"
   ]
  },
  {
   "cell_type": "code",
   "execution_count": 45,
   "metadata": {},
   "outputs": [
    {
     "name": "stdout",
     "output_type": "stream",
     "text": [
      "id                                     0\n",
      "name                                  67\n",
      "host_id                                0\n",
      "host_name                            706\n",
      "neighbourhood                          0\n",
      "latitude                               0\n",
      "longitude                              0\n",
      "room_type                              0\n",
      "price                                  0\n",
      "minimum_nights                         0\n",
      "number_of_reviews                      0\n",
      "last_review                        54371\n",
      "reviews_per_month                  54371\n",
      "calculated_host_listings_count         0\n",
      "availability_365                       0\n",
      "price(€)                               0\n",
      "neighbourhood_group               151518\n",
      "city                              103390\n",
      "dtype: int64\n"
     ]
    }
   ],
   "source": [
    "# Contar valores nulos en cada columna\n",
    "print(df_final.isnull().sum())\n"
   ]
  },
  {
   "cell_type": "code",
   "execution_count": 46,
   "metadata": {},
   "outputs": [
    {
     "name": "stdout",
     "output_type": "stream",
     "text": [
      "id                                 0.000000\n",
      "name                               0.030450\n",
      "host_id                            0.000000\n",
      "host_name                          0.320864\n",
      "neighbourhood                      0.000000\n",
      "latitude                           0.000000\n",
      "longitude                          0.000000\n",
      "room_type                          0.000000\n",
      "price                              0.000000\n",
      "minimum_nights                     0.000000\n",
      "number_of_reviews                  0.000000\n",
      "last_review                       24.710609\n",
      "reviews_per_month                 24.710609\n",
      "calculated_host_listings_count     0.000000\n",
      "availability_365                   0.000000\n",
      "price(€)                           0.000000\n",
      "neighbourhood_group               68.862115\n",
      "city                              46.988833\n",
      "dtype: float64\n"
     ]
    }
   ],
   "source": [
    "# Calcular el porcentaje de valores nulos por columna\n",
    "print(df_final.isnull().mean() * 100)\n"
   ]
  },
  {
   "cell_type": "code",
   "execution_count": 47,
   "metadata": {},
   "outputs": [
    {
     "name": "stderr",
     "output_type": "stream",
     "text": [
      "C:\\Users\\Administrator\\AppData\\Local\\Temp\\ipykernel_12684\\4252854519.py:4: UserWarning: FigureCanvasAgg is non-interactive, and thus cannot be shown\n",
      "  plt.show()\n"
     ]
    }
   ],
   "source": [
    "# Visualizar valores nulos\n",
    "plt.figure(figsize=(10,6))\n",
    "sns.heatmap(df_final.isnull(), cbar=False, cmap='viridis')\n",
    "plt.show()\n"
   ]
  },
  {
   "cell_type": "code",
   "execution_count": 48,
   "metadata": {},
   "outputs": [
    {
     "name": "stdout",
     "output_type": "stream",
     "text": [
      "             id                                               name   host_id  \\\n",
      "2          3647                THE VILLAGE OF HARLEM....NEW YORK !      4632   \n",
      "19         7750                  Huge 2 BR Upper East  Cental Park     17985   \n",
      "26         8700  Magnifique Suite au N de Manhattan - vue Cloitres     26394   \n",
      "36        11452                        Clean and Quiet in Brooklyn      7355   \n",
      "38        11943                          Country space in the city     45445   \n",
      "...         ...                                                ...       ...   \n",
      "48890  36484665    Charming one bedroom - newly renovated rowhouse   8232441   \n",
      "48891  36485057      Affordable room in Bushwick/East Williamsburg   6570630   \n",
      "48892  36485431            Sunny Studio at Historical Neighborhood  23492952   \n",
      "48893  36485609               43rd St. Time Square-cozy single bed  30985759   \n",
      "48894  36487245  Trendy duplex in the very heart of Hell's Kitchen  68119814   \n",
      "\n",
      "             host_name neighbourhood_group       neighbourhood  latitude  \\\n",
      "2            Elisabeth           Manhattan              Harlem  40.80902   \n",
      "19                Sing           Manhattan         East Harlem  40.79685   \n",
      "26     Claude & Sophie           Manhattan              Inwood  40.86754   \n",
      "36                  Vt            Brooklyn  Bedford-Stuyvesant  40.68876   \n",
      "38             Harriet            Brooklyn            Flatbush  40.63702   \n",
      "...                ...                 ...                 ...       ...   \n",
      "48890          Sabrina            Brooklyn  Bedford-Stuyvesant  40.67853   \n",
      "48891          Marisol            Brooklyn            Bushwick  40.70184   \n",
      "48892    Ilgar & Aysel           Manhattan              Harlem  40.81475   \n",
      "48893              Taz           Manhattan      Hell's Kitchen  40.75751   \n",
      "48894       Christophe           Manhattan      Hell's Kitchen  40.76404   \n",
      "\n",
      "       longitude        room_type  price  minimum_nights  number_of_reviews  \\\n",
      "2      -73.94190     Private room    150               3                  0   \n",
      "19     -73.94872  Entire home/apt    190               7                  0   \n",
      "26     -73.92639     Private room     80               4                  0   \n",
      "36     -73.94312     Private room     35              60                  0   \n",
      "38     -73.96327     Private room    150               1                  0   \n",
      "...          ...              ...    ...             ...                ...   \n",
      "48890  -73.94995     Private room     70               2                  0   \n",
      "48891  -73.93317     Private room     40               4                  0   \n",
      "48892  -73.94867  Entire home/apt    115              10                  0   \n",
      "48893  -73.99112      Shared room     55               1                  0   \n",
      "48894  -73.98933     Private room     90               7                  0   \n",
      "\n",
      "      last_review  reviews_per_month  calculated_host_listings_count  \\\n",
      "2             NaN                NaN                               1   \n",
      "19            NaN                NaN                               2   \n",
      "26            NaN                NaN                               1   \n",
      "36            NaN                NaN                               1   \n",
      "38            NaN                NaN                               1   \n",
      "...           ...                ...                             ...   \n",
      "48890         NaN                NaN                               2   \n",
      "48891         NaN                NaN                               2   \n",
      "48892         NaN                NaN                               1   \n",
      "48893         NaN                NaN                               6   \n",
      "48894         NaN                NaN                               1   \n",
      "\n",
      "       availability_365      city  price(€)  \n",
      "2                   365  New York    137.10  \n",
      "19                  249  New York    173.66  \n",
      "26                    0  New York     73.12  \n",
      "36                  365  New York     31.99  \n",
      "38                  365  New York    137.10  \n",
      "...                 ...       ...       ...  \n",
      "48890                 9  New York     63.98  \n",
      "48891                36  New York     36.56  \n",
      "48892                27  New York    105.11  \n",
      "48893                 2  New York     50.27  \n",
      "48894                23  New York     82.26  \n",
      "\n",
      "[10074 rows x 18 columns]\n"
     ]
    }
   ],
   "source": [
    "# Filtrar filas con al menos un valor nulo\n",
    "df_nulos = df[df.isnull().any(axis=1)]\n",
    "print(df_nulos)\n"
   ]
  },
  {
   "cell_type": "code",
   "execution_count": 119,
   "metadata": {},
   "outputs": [
    {
     "name": "stdout",
     "output_type": "stream",
     "text": [
      "              id                                               name  \\\n",
      "0          11551         Arty and Bright London Apartment in Zone 2   \n",
      "1          13913                Holiday London DB Room Let-on going   \n",
      "2          90700                  Sunny Notting Hill flat & terrace   \n",
      "3          15400                Bright Chelsea  Apartment. Chelsea!   \n",
      "4          92399  MODERN SELF CONTAINED ARCHITECT FLATLET, ISLIN...   \n",
      "...          ...                                                ...   \n",
      "220026  36083287  1min to station · Skytree/Tatami hotel/new design   \n",
      "220027  36083512    Asakusa Wired house 5pax near by UENO/AKIHABARA   \n",
      "220028  36084566                                             东京精品民宿   \n",
      "220029  36085357  #4 DIRECT ACCESS TO DISNEY IN BUS! 3MIN TO STA...   \n",
      "220030  36086604               103号室:立地最高!駅近･買い物便利!改装したばかりの綺麗な和室です｡   \n",
      "\n",
      "          host_id neighbourhood_group           neighbourhood  latitude  \\\n",
      "0           43039                 NaN                 Lambeth  51.46225   \n",
      "1           54730                 NaN               Islington  51.56802   \n",
      "2          491286                 NaN  Kensington and Chelsea  51.51074   \n",
      "3           60302                 NaN  Kensington and Chelsea  51.48796   \n",
      "4          497366                 NaN               Islington  51.55071   \n",
      "...           ...                 ...                     ...       ...   \n",
      "220026  235406925                 NaN               Sumida Ku  35.70862   \n",
      "220027  267481408                 NaN                Taito Ku  35.72464   \n",
      "220028  161702799                 NaN              Toshima Ku  35.73587   \n",
      "220029  208189463                 NaN              Edogawa Ku  35.66255   \n",
      "220030  254667806                 NaN             Shinjuku Ku  35.69889   \n",
      "\n",
      "        longitude        room_type  price  minimum_nights  number_of_reviews  \\\n",
      "0        -0.11732  Entire home/apt     88               3                185   \n",
      "1        -0.11121     Private room     65               1                 19   \n",
      "2        -0.19853  Entire home/apt    105               2                339   \n",
      "3        -0.16898  Entire home/apt    100              30                 88   \n",
      "4        -0.08547     Private room     77               1                207   \n",
      "...           ...              ...    ...             ...                ...   \n",
      "220026  139.81393  Entire home/apt  21951               1                  0   \n",
      "220027  139.78078  Entire home/apt   7747               1                  0   \n",
      "220028  139.73397     Private room  56275               1                  0   \n",
      "220029  139.87236  Entire home/apt   6456               1                  0   \n",
      "220030  139.70544     Private room   7962               2                  0   \n",
      "\n",
      "       last_review reviews_per_month calculated_host_listings_count  \\\n",
      "0       2019-09-15              1.58                              2   \n",
      "1       2019-10-07              0.17                              2   \n",
      "2       2019-07-30              3.33                              2   \n",
      "3       2019-09-23              0.73                              1   \n",
      "4       2019-10-21              2.04                              2   \n",
      "...            ...               ...                            ...   \n",
      "220026         NaN               NaN                      sin datos   \n",
      "220027         NaN               NaN                      sin datos   \n",
      "220028         NaN               NaN                      sin datos   \n",
      "220029         NaN               NaN                      sin datos   \n",
      "220030         NaN               NaN                      sin datos   \n",
      "\n",
      "       availability_365    city  \n",
      "0                   336  London  \n",
      "1                   365  London  \n",
      "2                   268  London  \n",
      "3                   158  London  \n",
      "4                   336  London  \n",
      "...                 ...     ...  \n",
      "220026        sin datos   Tokyo  \n",
      "220027        sin datos   Tokyo  \n",
      "220028        sin datos   Tokyo  \n",
      "220029        sin datos   Tokyo  \n",
      "220030        sin datos   Tokyo  \n",
      "\n",
      "[220031 rows x 16 columns]\n"
     ]
    }
   ],
   "source": [
    "# Eliminar columna host_name\n",
    "#df = df_final.drop('host_name', axis=1)\n",
    "#print(df)\n"
   ]
  }
 ],
 "metadata": {
  "kernelspec": {
   "display_name": "venv",
   "language": "python",
   "name": "python3"
  },
  "language_info": {
   "codemirror_mode": {
    "name": "ipython",
    "version": 3
   },
   "file_extension": ".py",
   "mimetype": "text/x-python",
   "name": "python",
   "nbconvert_exporter": "python",
   "pygments_lexer": "ipython3",
   "version": "3.12.4"
  }
 },
 "nbformat": 4,
 "nbformat_minor": 2
}
