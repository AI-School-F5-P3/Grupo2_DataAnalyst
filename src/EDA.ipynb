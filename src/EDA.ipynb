{
 "cells": [
  {
   "cell_type": "code",
   "execution_count": 83,
   "metadata": {},
   "outputs": [],
   "source": [
    "#Librerías\n",
    "import pandas as pd\n",
    "import os\n",
    "import seaborn as sns\n",
    "import matplotlib.pyplot as plt"
   ]
  },
  {
   "cell_type": "markdown",
   "metadata": {},
   "source": [
    "Cargar datos"
   ]
  },
  {
   "cell_type": "code",
   "execution_count": 84,
   "metadata": {},
   "outputs": [
    {
     "name": "stdout",
     "output_type": "stream",
     "text": [
      "Se cargaron 8 archivos (CSV y Excel).\n"
     ]
    }
   ],
   "source": [
    "# Definir la ruta de la carpeta donde están los archivos CSV y Excel\n",
    "carpeta_csv = 'C:/Users/Administrator/Desktop/Proyecto_Track Data Analyst_Analisis y visualización de datos/Grupo2_DataAnalyst/raw_data'\n",
    "\n",
    "# Crear una lista para almacenar los DataFrames\n",
    "dataframes = []\n",
    "\n",
    "# Recorrer todos los archivos en la carpeta\n",
    "for archivo in os.listdir(carpeta_csv):\n",
    "    # Construir la ruta completa del archivo\n",
    "    ruta_completa = os.path.join(carpeta_csv, archivo)\n",
    "    \n",
    "    # Verificar si el archivo es un CSV\n",
    "    if archivo.endswith(\".csv\"):\n",
    "        df = pd.read_csv(ruta_completa)\n",
    "        dataframes.append(df)\n",
    "    \n",
    "    # Verificar si el archivo es un Excel (.xlsx)\n",
    "    elif archivo.endswith(\".xlsx\"):\n",
    "        df = pd.read_excel(ruta_completa)\n",
    "        dataframes.append(df)\n",
    "\n",
    "# Verificar cuántos DataFrames fueron cargados\n",
    "print(f\"Se cargaron {len(dataframes)} archivos (CSV y Excel).\")\n"
   ]
  },
  {
   "cell_type": "markdown",
   "metadata": {},
   "source": [
    "EDA"
   ]
  },
  {
   "cell_type": "code",
   "execution_count": 85,
   "metadata": {},
   "outputs": [],
   "source": [
    "# Acceder a los DataFrames por índice\n",
    "df_london1 = dataframes[0]  \n",
    "df_london2= dataframes[1]   \n",
    "df_madrid = dataframes[2]  \n",
    "df_milan1 = dataframes[3]\n",
    "df_milan2 = dataframes[4]\n",
    "df_NY = dataframes[5]\n",
    "df_sydney = dataframes[6]\n",
    "df_tokyo = dataframes[7]"
   ]
  },
  {
   "cell_type": "code",
   "execution_count": 86,
   "metadata": {},
   "outputs": [
    {
     "name": "stdout",
     "output_type": "stream",
     "text": [
      "Columnas en común entre df_london1 y df_london2: Index(['id', 'name', 'host_id', 'host_name', 'neighbourhood_group',\n",
      "       'neighbourhood', 'latitude', 'longitude', 'room_type', 'price',\n",
      "       'minimum_nights', 'number_of_reviews', 'last_review',\n",
      "       'reviews_per_month', 'calculated_host_listings_count',\n",
      "       'availability_365'],\n",
      "      dtype='object')\n"
     ]
    }
   ],
   "source": [
    "# Comparar columnas de df_london1 y df_madrid\n",
    "columnas_comunes = df_london1.columns.intersection(df_london2.columns)\n",
    "print(f\"Columnas en común entre df_london1 y df_london2: {columnas_comunes}\")\n"
   ]
  },
  {
   "cell_type": "code",
   "execution_count": 87,
   "metadata": {},
   "outputs": [
    {
     "name": "stdout",
     "output_type": "stream",
     "text": [
      "Columnas en común entre df_london1 y df_madrid: Index(['id', 'name', 'host_id', 'host_name', 'neighbourhood_group',\n",
      "       'neighbourhood', 'latitude', 'longitude', 'room_type', 'price',\n",
      "       'minimum_nights', 'number_of_reviews', 'last_review',\n",
      "       'reviews_per_month', 'calculated_host_listings_count',\n",
      "       'availability_365'],\n",
      "      dtype='object')\n"
     ]
    }
   ],
   "source": [
    "# Comparar columnas de df_london1 y df_madrid\n",
    "columnas_comunes = df_london1.columns.intersection(df_madrid.columns)\n",
    "print(f\"Columnas en común entre df_london1 y df_madrid: {columnas_comunes}\")\n"
   ]
  },
  {
   "cell_type": "code",
   "execution_count": 88,
   "metadata": {},
   "outputs": [
    {
     "name": "stdout",
     "output_type": "stream",
     "text": [
      "Número de filas antes de eliminar duplicados: 85068\n",
      "Número de filas antes de eliminar duplicados 2: 85068\n"
     ]
    }
   ],
   "source": [
    "# Contar filas en London\n",
    "print(f\"Número de filas antes de eliminar duplicados: {df_london1.shape[0]}\")\n",
    "print(f\"Número de filas antes de eliminar duplicados 2: {df_london2.shape[0]}\")"
   ]
  },
  {
   "cell_type": "code",
   "execution_count": 89,
   "metadata": {},
   "outputs": [
    {
     "name": "stdout",
     "output_type": "stream",
     "text": [
      "Número de filas antes de eliminar duplicados: 18322\n",
      "Número de filas antes de eliminar duplicados 2: 18322\n"
     ]
    }
   ],
   "source": [
    "# Contar filas en Milan\n",
    "print(f\"Número de filas antes de eliminar duplicados: {df_milan1.shape[0]}\")\n",
    "print(f\"Número de filas antes de eliminar duplicados 2: {df_milan2.shape[0]}\")"
   ]
  },
  {
   "cell_type": "code",
   "execution_count": 90,
   "metadata": {},
   "outputs": [
    {
     "name": "stdout",
     "output_type": "stream",
     "text": [
      "      id                                               name  host_id  \\\n",
      "0  11551         Arty and Bright London Apartment in Zone 2    43039   \n",
      "1  13913                Holiday London DB Room Let-on going    54730   \n",
      "2  90700                  Sunny Notting Hill flat & terrace   491286   \n",
      "3  15400                Bright Chelsea  Apartment. Chelsea!    60302   \n",
      "4  92399  MODERN SELF CONTAINED ARCHITECT FLATLET, ISLIN...   497366   \n",
      "\n",
      "       host_name  neighbourhood_group           neighbourhood  latitude  \\\n",
      "0        Adriano                  NaN                 Lambeth  51.46225   \n",
      "1          Alina                  NaN               Islington  51.56802   \n",
      "2           Chil                  NaN  Kensington and Chelsea  51.51074   \n",
      "3       Philippa                  NaN  Kensington and Chelsea  51.48796   \n",
      "4  Andrea & Mark                  NaN               Islington  51.55071   \n",
      "\n",
      "   longitude        room_type  price  minimum_nights  number_of_reviews  \\\n",
      "0   -0.11732  Entire home/apt     88               3                185   \n",
      "1   -0.11121     Private room     65               1                 19   \n",
      "2   -0.19853  Entire home/apt    105               2                339   \n",
      "3   -0.16898  Entire home/apt    100              30                 88   \n",
      "4   -0.08547     Private room     77               1                207   \n",
      "\n",
      "  last_review reviews_per_month  calculated_host_listings_count  \\\n",
      "0  2019-09-15              1.58                               2   \n",
      "1  2019-10-07              0.17                               2   \n",
      "2  2019-07-30              3.33                               2   \n",
      "3  2019-09-23              0.73                               1   \n",
      "4  2019-10-21              2.04                               2   \n",
      "\n",
      "   availability_365  \n",
      "0               336  \n",
      "1               365  \n",
      "2               268  \n",
      "3               158  \n",
      "4               336  \n"
     ]
    }
   ],
   "source": [
    "# Unir df_london1 y df_london2 por filas\n",
    "df_london = pd.concat([df_london1, df_london2], ignore_index=True)\n",
    "\n",
    "# Verificar las primeras filas del nuevo DataFrame unido\n",
    "print(df_london.head())\n"
   ]
  },
  {
   "cell_type": "code",
   "execution_count": 91,
   "metadata": {},
   "outputs": [
    {
     "name": "stdout",
     "output_type": "stream",
     "text": [
      "Número de filas antes de eliminar duplicados: 170136\n"
     ]
    }
   ],
   "source": [
    "# Contar filas df_london\n",
    "print(f\"Número de filas antes de eliminar duplicados: {df_london.shape[0]}\")\n",
    "\n",
    "\n"
   ]
  },
  {
   "cell_type": "code",
   "execution_count": 92,
   "metadata": {},
   "outputs": [
    {
     "name": "stdout",
     "output_type": "stream",
     "text": [
      "Número de filas duplicadas basadas en 'id': 170136\n"
     ]
    }
   ],
   "source": [
    "# Contar duplicados basados en las columnas específicas\n",
    "duplicados_london = df_london[df_london.duplicated(subset=['id'], keep=False)]\n",
    "print(f\"Número de filas duplicadas basadas en 'id': {duplicados_london.shape[0]}\")\n"
   ]
  },
  {
   "cell_type": "code",
   "execution_count": 93,
   "metadata": {},
   "outputs": [
    {
     "name": "stdout",
     "output_type": "stream",
     "text": [
      "Número de filas después de eliminar duplicados: 85068\n"
     ]
    }
   ],
   "source": [
    "# Eliminar filas duplicadas basadas en la columna 'id'\n",
    "df_london_clean = df_london.drop_duplicates(subset=['id'], keep='first')\n",
    "\n",
    "# Verificar el número de filas después de eliminar duplicados\n",
    "print(f\"Número de filas después de eliminar duplicados: {df_london_clean.shape[0]}\")\n"
   ]
  },
  {
   "cell_type": "code",
   "execution_count": 94,
   "metadata": {},
   "outputs": [
    {
     "name": "stdout",
     "output_type": "stream",
     "text": [
      "      id                                name  host_id    host_name  \\\n",
      "0   6400                    The Studio Milan    13822    Francesca   \n",
      "1  23986     \" Characteristic Milanese flat\"    95941       Jeremy   \n",
      "2  28300             nice flat near the park   121663        Marta   \n",
      "3  32119  Nico & Cynthia's Easy Yellow Suite   138683  Nico&Cinzia   \n",
      "4  32649       Nico&Cinzia's Red Easy Suite!   138683  Nico&Cinzia   \n",
      "\n",
      "  neighbourhood  latitude longitude        room_type  price  minimum_nights  \\\n",
      "0       TIBALDI  45.44119   9.17813     Private room    100               4   \n",
      "1       NAVIGLI  45.44806   9.17373  Entire home/apt    150               1   \n",
      "2         SARPI  45.47647   9.17359     Private room    180               1   \n",
      "3   VIALE MONZA  45.52014     9.223  Entire home/apt     75               2   \n",
      "4   VIALE MONZA  45.51874   9.22495  Entire home/apt     71               2   \n",
      "\n",
      "   number_of_reviews last_review reviews_per_month  \\\n",
      "0                 12    19/04/10              0.14   \n",
      "1                 15    07/09/20              0.21   \n",
      "2                  8    22/04/12              0.11   \n",
      "3                 15    01/07/18              0.23   \n",
      "4                 29    23/10/16              0.71   \n",
      "\n",
      "   calculated_host_listings_count  availability_365  \n",
      "0                               1               358  \n",
      "1                               1               363  \n",
      "2                               1               365  \n",
      "3                               3               200  \n",
      "4                               3               308  \n"
     ]
    }
   ],
   "source": [
    "# Unir df_milan1 y df_milan2 por filas\n",
    "df_milan = pd.concat([df_milan1, df_milan2], ignore_index=True)\n",
    "\n",
    "# Verificar las primeras filas del nuevo DataFrame unido\n",
    "print(df_milan.head())\n"
   ]
  },
  {
   "cell_type": "code",
   "execution_count": 95,
   "metadata": {},
   "outputs": [
    {
     "name": "stdout",
     "output_type": "stream",
     "text": [
      "Número de filas antes de eliminar duplicados: 18322\n",
      "Número de filas antes de eliminar duplicados 2: 18322\n"
     ]
    }
   ],
   "source": [
    "# Contar filas antes de eliminar duplicados\n",
    "print(f\"Número de filas antes de eliminar duplicados: {df_milan1.shape[0]}\")\n",
    "print(f\"Número de filas antes de eliminar duplicados 2: {df_milan2.shape[0]}\")"
   ]
  },
  {
   "cell_type": "code",
   "execution_count": 97,
   "metadata": {},
   "outputs": [
    {
     "name": "stdout",
     "output_type": "stream",
     "text": [
      "Número de filas duplicadas basadas en 'id': 36644\n"
     ]
    }
   ],
   "source": [
    "# Contar duplicados basados en las columnas específicas\n",
    "duplicados_milan = df_milan[df_milan.duplicated(subset=['id'], keep=False)]\n",
    "print(f\"Número de filas duplicadas basadas en 'id': {duplicados_milan.shape[0]}\")\n"
   ]
  },
  {
   "cell_type": "code",
   "execution_count": 98,
   "metadata": {},
   "outputs": [
    {
     "name": "stdout",
     "output_type": "stream",
     "text": [
      "Filas duplicadas en df_milan:\n",
      "             id                                               name    host_id  \\\n",
      "18322      6400                                   The Studio Milan      13822   \n",
      "18323     23986                    \" Characteristic Milanese flat\"      95941   \n",
      "18324     28300                            nice flat near the park     121663   \n",
      "18325     32119                 Nico & Cynthia's Easy Yellow Suite     138683   \n",
      "18326     32649                      Nico&Cinzia's Red Easy Suite!     138683   \n",
      "...         ...                                                ...        ...   \n",
      "36639  50932336           Simonetta's  Apartment in Porta Vittoria   78575545   \n",
      "36640  50932398  Little Retreat with Balcony and Box near De An...  230140176   \n",
      "36641  50934102                               MODERN APT. IN REPUB  338964464   \n",
      "36642  50950278                               Luxury Home in Milan    9800031   \n",
      "36643  50955051                      Affacciato sul Parco Sempione    1993102   \n",
      "\n",
      "         host_name           neighbourhood      latitude   longitude  \\\n",
      "18322    Francesca                 TIBALDI  4.544119e+06      917813   \n",
      "18323       Jeremy                 NAVIGLI  4.544806e+06      917373   \n",
      "18324        Marta                   SARPI  4.547647e+06      917359   \n",
      "18325  Nico&Cinzia             VIALE MONZA  4.552014e+06        9223   \n",
      "18326  Nico&Cinzia             VIALE MONZA  4.551874e+06      922495   \n",
      "...            ...                     ...           ...         ...   \n",
      "36639     Gregorio         UMBRIA - MOLISE  4.545339e+06      922116   \n",
      "36640     Youhosty  DE ANGELI - MONTE ROSA  4.546923e+07     9147238   \n",
      "36641    Valentina                CENTRALE  4.548023e+09  9199445896   \n",
      "36642      Camilla                   SARPI  4.548324e+09  9179121169   \n",
      "36643   A. Valeria                   SARPI  4.547720e+09  9178966805   \n",
      "\n",
      "             room_type  price  minimum_nights  number_of_reviews  \\\n",
      "18322     Private room    100               4                 12   \n",
      "18323  Entire home/apt    150               1                 15   \n",
      "18324     Private room    180               1                  8   \n",
      "18325  Entire home/apt     75               2                 15   \n",
      "18326  Entire home/apt     71               2                 29   \n",
      "...                ...    ...             ...                ...   \n",
      "36639  Entire home/apt     61               3                  0   \n",
      "36640  Entire home/apt    181               2                  0   \n",
      "36641  Entire home/apt    422               1                  0   \n",
      "36642  Entire home/apt    200               4                  0   \n",
      "36643     Private room     60               2                  0   \n",
      "\n",
      "               last_review reviews_per_month  calculated_host_listings_count  \\\n",
      "18322  2010-04-19 00:00:00              0.14                               1   \n",
      "18323  2020-09-07 00:00:00              0.21                               1   \n",
      "18324  2012-04-22 00:00:00              0.11                               1   \n",
      "18325  2018-07-01 00:00:00              0.23                               3   \n",
      "18326  2016-10-23 00:00:00              0.71                               3   \n",
      "...                    ...               ...                             ...   \n",
      "36639                  NaT               NaN                               1   \n",
      "36640                  NaT               NaN                              60   \n",
      "36641                  NaT               NaN                               1   \n",
      "36642                  NaT               NaN                               1   \n",
      "36643                  NaT               NaN                               2   \n",
      "\n",
      "       availability_365  \n",
      "18322               358  \n",
      "18323               363  \n",
      "18324               365  \n",
      "18325               200  \n",
      "18326               308  \n",
      "...                 ...  \n",
      "36639               306  \n",
      "36640               359  \n",
      "36641               326  \n",
      "36642                12  \n",
      "36643               358  \n",
      "\n",
      "[18311 rows x 15 columns]\n"
     ]
    }
   ],
   "source": [
    "# Ver filas duplicadas basadas en ciertas columnas de df_milan\n",
    "duplicadas_milan = df_milan[df_milan.duplicated(subset=['id', 'name', 'host_name'])]\n",
    "print(\"Filas duplicadas en df_milan:\")\n",
    "print(duplicadas_milan)"
   ]
  },
  {
   "cell_type": "code",
   "execution_count": 99,
   "metadata": {},
   "outputs": [
    {
     "name": "stdout",
     "output_type": "stream",
     "text": [
      "Número de filas después de eliminar duplicados: 18322\n"
     ]
    }
   ],
   "source": [
    "# Eliminar filas duplicadas basadas en la columna 'id'\n",
    "df_milan_clean = df_milan.drop_duplicates(subset=['id'], keep='first')\n",
    "\n",
    "# Verificar el número de filas después de eliminar duplicados\n",
    "print(f\"Número de filas después de eliminar duplicados: {df_milan_clean.shape[0]}\")"
   ]
  },
  {
   "cell_type": "code",
   "execution_count": 100,
   "metadata": {},
   "outputs": [],
   "source": [
    "# Añadir la columna 'ciudad' a cada DataFrame\n",
    "df_london['city'] = 'London'\n",
    "df_madrid['city'] = 'Madrid'\n",
    "df_milan['city'] = 'Milan'\n",
    "df_NY['city'] = 'New York'\n",
    "df_sydney['city'] = 'Sidney'\n",
    "df_tokyo['city'] = 'Tokyo'\n"
   ]
  },
  {
   "cell_type": "code",
   "execution_count": 101,
   "metadata": {},
   "outputs": [
    {
     "name": "stdout",
     "output_type": "stream",
     "text": [
      "      id                                               name  host_id  \\\n",
      "0  11551         Arty and Bright London Apartment in Zone 2    43039   \n",
      "1  13913                Holiday London DB Room Let-on going    54730   \n",
      "2  90700                  Sunny Notting Hill flat & terrace   491286   \n",
      "3  15400                Bright Chelsea  Apartment. Chelsea!    60302   \n",
      "4  92399  MODERN SELF CONTAINED ARCHITECT FLATLET, ISLIN...   497366   \n",
      "\n",
      "       host_name neighbourhood_group           neighbourhood  latitude  \\\n",
      "0        Adriano                 NaN                 Lambeth  51.46225   \n",
      "1          Alina                 NaN               Islington  51.56802   \n",
      "2           Chil                 NaN  Kensington and Chelsea  51.51074   \n",
      "3       Philippa                 NaN  Kensington and Chelsea  51.48796   \n",
      "4  Andrea & Mark                 NaN               Islington  51.55071   \n",
      "\n",
      "  longitude        room_type  price  minimum_nights  number_of_reviews  \\\n",
      "0  -0.11732  Entire home/apt     88               3                185   \n",
      "1  -0.11121     Private room     65               1                 19   \n",
      "2  -0.19853  Entire home/apt    105               2                339   \n",
      "3  -0.16898  Entire home/apt    100              30                 88   \n",
      "4  -0.08547     Private room     77               1                207   \n",
      "\n",
      "  last_review reviews_per_month  calculated_host_listings_count  \\\n",
      "0  2019-09-15              1.58                             2.0   \n",
      "1  2019-10-07              0.17                             2.0   \n",
      "2  2019-07-30              3.33                             2.0   \n",
      "3  2019-09-23              0.73                             1.0   \n",
      "4  2019-10-21              2.04                             2.0   \n",
      "\n",
      "   availability_365 city  \n",
      "0             336.0  NaN  \n",
      "1             365.0  NaN  \n",
      "2             268.0  NaN  \n",
      "3             158.0  NaN  \n",
      "4             336.0  NaN  \n"
     ]
    }
   ],
   "source": [
    "#Unir csv y xlsx\n",
    "# Unir todos los DataFrames en uno solo\n",
    "df_final = pd.concat([df_london_clean, df_madrid, df_milan_clean, df_NY, df_sydney, df_tokyo], ignore_index=True)\n",
    "\n",
    "# Verificar el DataFrame resultante\n",
    "print(df_final.head())\n"
   ]
  }
 ],
 "metadata": {
  "kernelspec": {
   "display_name": "venv",
   "language": "python",
   "name": "python3"
  },
  "language_info": {
   "codemirror_mode": {
    "name": "ipython",
    "version": 3
   },
   "file_extension": ".py",
   "mimetype": "text/x-python",
   "name": "python",
   "nbconvert_exporter": "python",
   "pygments_lexer": "ipython3",
   "version": "3.12.4"
  }
 },
 "nbformat": 4,
 "nbformat_minor": 2
}
