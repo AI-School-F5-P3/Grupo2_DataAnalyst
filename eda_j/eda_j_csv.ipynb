{
 "cells": [
  {
   "cell_type": "markdown",
   "metadata": {},
   "source": [
    "# AirBnB Analytics - Notebook de EDA"
   ]
  },
  {
   "cell_type": "markdown",
   "metadata": {},
   "source": [
    "#### Importar librerias necesarias."
   ]
  },
  {
   "cell_type": "code",
   "execution_count": 1017,
   "metadata": {},
   "outputs": [],
   "source": [
    "import pandas as pd\n",
    "import numpy as np\n",
    "import matplotlib.pyplot as plt\n",
    "import seaborn as sns\n",
    "import os\n",
    "import missingno as msno\n",
    "import geopy"
   ]
  },
  {
   "cell_type": "markdown",
   "metadata": {},
   "source": [
    "#### Cargar ficheros csv. Se excluyen los dos ficheros de Excel que estaban dentro de la misma carpeta y que parecen haber sido creados por error."
   ]
  },
  {
   "cell_type": "code",
   "execution_count": 1018,
   "metadata": {},
   "outputs": [],
   "source": [
    "london_airbnb = pd.read_csv('../raw_data/london_airbnb.csv', sep=',')\n",
    "\n",
    "madrid_airbnb = pd.read_csv('../raw_data/madrid_airbnb.csv', sep=',')\n",
    "\n",
    "milan_airbnb = pd.read_csv('../raw_data/milan_airbnb.csv', sep=',')\n",
    "\n",
    "NY_airbnb = pd.read_csv('../raw_data/NY_airbnb.csv', sep=',')\n",
    "\n",
    "sydney_airbnb = pd.read_csv('../raw_data/sydney_airbnb.csv', sep=',')\n",
    "\n",
    "tokyo_airbnb = pd.read_csv('../raw_data/tokyo_airbnb.csv', sep=',')\n",
    "\n",
    "df_list = [london_airbnb, milan_airbnb, NY_airbnb, sydney_airbnb, tokyo_airbnb, madrid_airbnb]\n",
    "\n"
   ]
  },
  {
   "cell_type": "markdown",
   "metadata": {},
   "source": [
    "#### Insert columna 'city' como paso previo para unir todos los ficheros en uno solo."
   ]
  },
  {
   "cell_type": "code",
   "execution_count": 1019,
   "metadata": {},
   "outputs": [],
   "source": [
    "# Assuming df_list contains the DataFrames\n",
    "df_list = [london_airbnb, milan_airbnb, NY_airbnb, sydney_airbnb, tokyo_airbnb, madrid_airbnb]\n",
    "\n",
    "# Loop through each DataFrame in df_list\n",
    "for df in df_list:\n",
    "    # Extract the city name from the variable name\n",
    "    city_val = [name for name in globals() if globals()[name] is df][0].split('_')[0]\n",
    "    \n",
    "    # Add a new column 'letters' with the city_val (optional content) \n",
    "    df['city'] = city_val.capitalize()  # You can adjust what content should go in 'letters'\n",
    "\n",
    "    # Append the updated DataFrame to the new list\n",
    "\n"
   ]
  },
  {
   "cell_type": "markdown",
   "metadata": {},
   "source": [
    "#### Explicación del contenido de los ficheros\n",
    "\n",
    "Aquí te explico lo que contiene cada columna de tu dataframe basado en la muestra de datos:\n",
    "\n",
    "1. **id**: Identificador único del anuncio en la plataforma de AirBnB.\n",
    "   - Ejemplo: `11551.0`\n",
    "\n",
    "2. **name**: Nombre o título descriptivo del alojamiento.\n",
    "   - Ejemplo: `Arty and Bright London Apartment in Zone 2`\n",
    "\n",
    "3. **host_id**: Identificador único del anfitrión que ofrece el alojamiento.\n",
    "   - Ejemplo: `43039.0`\n",
    "\n",
    "4. **host_name**: Nombre del anfitrión del alojamiento.\n",
    "   - Ejemplo: `Adriano`\n",
    "\n",
    "5. **neighbourhood_group**: Agrupación geográfica más amplia de los vecindarios. En muchos casos, este campo es nulo.\n",
    "   - Ejemplo: `NaN` (no disponible en esta muestra)\n",
    "\n",
    "6. **neighbourhood**: Nombre del vecindario donde se ubica el alojamiento.\n",
    "   - Ejemplo: `Lambeth`\n",
    "\n",
    "7. **latitude**: Latitud de la ubicación del alojamiento (la latitud de la ubicación puede estar mal formateada, ya que parece incluir caracteres innecesarios en este caso).\n",
    "   - Ejemplo: `51.4225`\n",
    "\n",
    "8. **longitude**: Longitud de la ubicación del alojamiento (al igual que con la latitud, el formato podría ser incorrecto).\n",
    "   - Ejemplo: `-11.732` (este parece estar bien, pero debería revisarse la consistencia con la latitud)\n",
    "\n",
    "9. **room_type**: Tipo de habitación o alojamiento ofrecido (ejemplo: apartamento completo o habitación privada).\n",
    "   - Ejemplo: `Entire home/apt`\n",
    "\n",
    "10. **price**: Precio por noche del alojamiento, expresado en la moneda local.\n",
    "    - Ejemplo: `88.0`\n",
    "\n",
    "11. **minimum_nights**: Número mínimo de noches requeridas para reservar el alojamiento.\n",
    "    - Ejemplo: `3.0`\n",
    "\n",
    "12. **number_of_reviews**: Cantidad total de reseñas que ha recibido el alojamiento.\n",
    "    - Ejemplo: `185.0`\n",
    "\n",
    "13. **last_review**: Fecha de la última reseña recibida para el alojamiento.\n",
    "    - Ejemplo: `2019-09-15`\n",
    "\n",
    "14. **reviews_per_month**: Promedio de reseñas recibidas por mes.\n",
    "    - Ejemplo: `1.58`\n",
    "\n",
    "15. **calculated_host_listings_count**: Número de anuncios que tiene el anfitrión en la plataforma (puede estar mal etiquetado o no ser consistente, ya que parece un valor numérico pero está como string en algunos casos).\n",
    "    - Ejemplo: `2.0`\n",
    "\n",
    "16. **availability_365**: Número de días que el alojamiento está disponible para reservar en un año.\n",
    "    - Ejemplo: `336.0`\n",
    "\n",
    "17. **city**: Ciudad donde se encuentra el alojamiento.\n",
    "    - Ejemplo: `London`\n",
    "\n",
    "Revisar el formato de algunos campos, como **latitude** y **longitude**, sería importante para garantizar la precisión en el análisis.\n",
    "\n",
    "---"
   ]
  },
  {
   "cell_type": "markdown",
   "metadata": {},
   "source": [
    "#### Crear una pequeña tabla con todas las columnas de cada dataframe para identificar qué datasets tienen columnas faltantes."
   ]
  },
  {
   "cell_type": "code",
   "execution_count": 1020,
   "metadata": {},
   "outputs": [
    {
     "data": {
      "text/html": [
       "<div>\n",
       "<style scoped>\n",
       "    .dataframe tbody tr th:only-of-type {\n",
       "        vertical-align: middle;\n",
       "    }\n",
       "\n",
       "    .dataframe tbody tr th {\n",
       "        vertical-align: top;\n",
       "    }\n",
       "\n",
       "    .dataframe thead th {\n",
       "        text-align: right;\n",
       "    }\n",
       "</style>\n",
       "<table border=\"1\" class=\"dataframe\">\n",
       "  <thead>\n",
       "    <tr style=\"text-align: right;\">\n",
       "      <th></th>\n",
       "      <th>Column</th>\n",
       "      <th>london_airbnb</th>\n",
       "      <th>milan_airbnb</th>\n",
       "      <th>NY_airbnb</th>\n",
       "      <th>sydney_airbnb</th>\n",
       "      <th>tokyo_airbnb</th>\n",
       "      <th>madrid_airbnb</th>\n",
       "    </tr>\n",
       "  </thead>\n",
       "  <tbody>\n",
       "    <tr>\n",
       "      <th>0</th>\n",
       "      <td>availability_365</td>\n",
       "      <td>True</td>\n",
       "      <td>True</td>\n",
       "      <td>True</td>\n",
       "      <td>True</td>\n",
       "      <td>False</td>\n",
       "      <td>True</td>\n",
       "    </tr>\n",
       "    <tr>\n",
       "      <th>1</th>\n",
       "      <td>calculated_host_listings_count</td>\n",
       "      <td>True</td>\n",
       "      <td>True</td>\n",
       "      <td>True</td>\n",
       "      <td>True</td>\n",
       "      <td>False</td>\n",
       "      <td>True</td>\n",
       "    </tr>\n",
       "    <tr>\n",
       "      <th>2</th>\n",
       "      <td>city</td>\n",
       "      <td>True</td>\n",
       "      <td>True</td>\n",
       "      <td>True</td>\n",
       "      <td>True</td>\n",
       "      <td>True</td>\n",
       "      <td>True</td>\n",
       "    </tr>\n",
       "    <tr>\n",
       "      <th>3</th>\n",
       "      <td>host_id</td>\n",
       "      <td>True</td>\n",
       "      <td>True</td>\n",
       "      <td>True</td>\n",
       "      <td>True</td>\n",
       "      <td>True</td>\n",
       "      <td>True</td>\n",
       "    </tr>\n",
       "    <tr>\n",
       "      <th>4</th>\n",
       "      <td>host_name</td>\n",
       "      <td>True</td>\n",
       "      <td>True</td>\n",
       "      <td>True</td>\n",
       "      <td>True</td>\n",
       "      <td>True</td>\n",
       "      <td>True</td>\n",
       "    </tr>\n",
       "  </tbody>\n",
       "</table>\n",
       "</div>"
      ],
      "text/plain": [
       "                           Column  london_airbnb  milan_airbnb  NY_airbnb  \\\n",
       "0                availability_365           True          True       True   \n",
       "1  calculated_host_listings_count           True          True       True   \n",
       "2                            city           True          True       True   \n",
       "3                         host_id           True          True       True   \n",
       "4                       host_name           True          True       True   \n",
       "\n",
       "   sydney_airbnb  tokyo_airbnb  madrid_airbnb  \n",
       "0           True         False           True  \n",
       "1           True         False           True  \n",
       "2           True          True           True  \n",
       "3           True          True           True  \n",
       "4           True          True           True  "
      ]
     },
     "execution_count": 1020,
     "metadata": {},
     "output_type": "execute_result"
    }
   ],
   "source": [
    "# Assuming df_list contains the DataFrames\n",
    "df_list = {\n",
    "    'london_airbnb': london_airbnb,\n",
    "    'milan_airbnb': milan_airbnb,\n",
    "    'NY_airbnb': NY_airbnb,\n",
    "    'sydney_airbnb': sydney_airbnb,\n",
    "    'tokyo_airbnb': tokyo_airbnb,\n",
    "    'madrid_airbnb': madrid_airbnb\n",
    "}\n",
    "\n",
    "# Initialize an empty set to collect all unique column names\n",
    "all_columns = set()\n",
    "\n",
    "# Collect all unique column names from each DataFrame\n",
    "for df in df_list.values():\n",
    "    all_columns.update(df.columns.tolist())  # Convert to list to avoid ambiguous truth value\n",
    "\n",
    "# Convert the set of all columns to a sorted list (for consistent ordering)\n",
    "all_columns = sorted(all_columns)\n",
    "\n",
    "# Create a dictionary to hold the presence/absence of each column in each DataFrame\n",
    "column_presence = {name: [col in df.columns.tolist() for col in all_columns] for name, df in df_list.items()}\n",
    "\n",
    "# Create a DataFrame that shows the presence of each column in each DataFrame\n",
    "column_summary = pd.DataFrame(column_presence, index=all_columns)\n",
    "\n",
    "# Reset index to turn column names into a regular column\n",
    "column_summary.reset_index(inplace=True)\n",
    "column_summary.rename(columns={'index': 'Column'}, inplace=True)\n",
    "\n",
    "# Show the resulting table\n",
    "column_summary.head()\n",
    "\n"
   ]
  },
  {
   "cell_type": "markdown",
   "metadata": {},
   "source": [
    "#### Mezclar todos los dataframes en uno solo"
   ]
  },
  {
   "cell_type": "code",
   "execution_count": 1021,
   "metadata": {},
   "outputs": [],
   "source": [
    "# Assuming df_list contains the DataFrames\n",
    "df_list = [london_airbnb, milan_airbnb, NY_airbnb, sydney_airbnb, tokyo_airbnb, madrid_airbnb]\n",
    "\n",
    "# Concatenate all DataFrames, keeping all columns\n",
    "df = pd.concat(df_list, ignore_index=True, sort=False)"
   ]
  },
  {
   "cell_type": "markdown",
   "metadata": {},
   "source": [
    "#### Insertar el valor 'no definido' en las columnas faltantes en los dataframes de Milan y Tokyo"
   ]
  },
  {
   "cell_type": "code",
   "execution_count": 1022,
   "metadata": {},
   "outputs": [],
   "source": [
    "## Asigna el valor \"no_definido\" a las columnas que no estaban incluidas en los dataframes originales\n",
    "df.loc[df['city'] == 'Tokyo', 'availability_365'] = np.nan\n",
    "df.loc[df['city'] == 'Tokyo', 'calculated_host_listings_count'] = np.nan\n",
    "df.loc[df['city'] == 'Milan', 'neighbourhood_group'] = np.nan"
   ]
  },
  {
   "cell_type": "markdown",
   "metadata": {},
   "source": [
    "#### Para el caso de los barrios en Milan, cambiar el formato para que no sean todo mayúsculas."
   ]
  },
  {
   "cell_type": "code",
   "execution_count": 1023,
   "metadata": {},
   "outputs": [],
   "source": [
    "# Apply title case to neighbourhood column where city is Milan and neighbourhood is in upper case\n",
    "milan_mask = (df['city'] == 'Milan') & (df['neighbourhood'].str.isupper())\n",
    "df.loc[milan_mask, 'neighbourhood'] = df.loc[milan_mask, 'neighbourhood'].str.title()"
   ]
  },
  {
   "cell_type": "code",
   "execution_count": 1024,
   "metadata": {},
   "outputs": [
    {
     "name": "stdout",
     "output_type": "stream",
     "text": [
      "<class 'pandas.core.frame.DataFrame'>\n",
      "RangeIndex: 220031 entries, 0 to 220030\n",
      "Data columns (total 17 columns):\n",
      " #   Column                          Non-Null Count   Dtype  \n",
      "---  ------                          --------------   -----  \n",
      " 0   id                              220031 non-null  int64  \n",
      " 1   name                            219964 non-null  object \n",
      " 2   host_id                         220031 non-null  int64  \n",
      " 3   host_name                       219325 non-null  object \n",
      " 4   neighbourhood_group             68513 non-null   object \n",
      " 5   neighbourhood                   220031 non-null  object \n",
      " 6   latitude                        220031 non-null  float64\n",
      " 7   longitude                       220031 non-null  float64\n",
      " 8   room_type                       220031 non-null  object \n",
      " 9   price                           220031 non-null  int64  \n",
      " 10  minimum_nights                  220031 non-null  int64  \n",
      " 11  number_of_reviews               220031 non-null  int64  \n",
      " 12  last_review                     165660 non-null  object \n",
      " 13  reviews_per_month               165660 non-null  float64\n",
      " 14  calculated_host_listings_count  208565 non-null  float64\n",
      " 15  availability_365                208565 non-null  float64\n",
      " 16  city                            220031 non-null  object \n",
      "dtypes: float64(5), int64(5), object(7)\n",
      "memory usage: 28.5+ MB\n"
     ]
    }
   ],
   "source": [
    "df.info()"
   ]
  },
  {
   "cell_type": "markdown",
   "metadata": {},
   "source": [
    "#### Conteos varios de las características de los campos"
   ]
  },
  {
   "cell_type": "code",
   "execution_count": 1025,
   "metadata": {},
   "outputs": [
    {
     "name": "stdout",
     "output_type": "stream",
     "text": [
      "Number of records by city:\n",
      "city\n",
      "London    85068\n",
      "Ny        48895\n",
      "Sydney    36662\n",
      "Madrid    19618\n",
      "Milan     18322\n",
      "Tokyo     11466\n",
      "Name: count, dtype: int64\n",
      "\n",
      "Number of records with incorrect latitude by city:\n",
      "Series([], Name: count, dtype: int64)\n",
      "\n",
      "Number of records with incorrect longitude by city:\n",
      "Series([], Name: count, dtype: int64)\n",
      "\n",
      "Number of records with incorrect latitude and longitude by city:\n",
      "Series([], Name: count, dtype: int64)\n",
      "\n",
      "Number of duplicated records where id is the column to compare:\n",
      "0\n",
      "\n",
      "Number of distinct records where id is the column to compare:\n",
      "220031\n"
     ]
    }
   ],
   "source": [
    "\n",
    "# Number of records by city\n",
    "records_by_city = df['city'].value_counts()\n",
    "print(\"Number of records by city:\")\n",
    "print(records_by_city)\n",
    "\n",
    "# Number of records with incorrect latitude by city\n",
    "incorrect_latitude_by_city = df[~df['latitude'].apply(is_valid_latitude)]['city'].value_counts()\n",
    "print(\"\\nNumber of records with incorrect latitude by city:\")\n",
    "print(incorrect_latitude_by_city)\n",
    "\n",
    "# Number of records with incorrect longitude by city\n",
    "incorrect_longitude_by_city = df[~df['longitude'].apply(is_valid_longitude)]['city'].value_counts()\n",
    "print(\"\\nNumber of records with incorrect longitude by city:\")\n",
    "print(incorrect_longitude_by_city)\n",
    "\n",
    "# Number of records with incorrect latitude and longitude by city\n",
    "incorrect_lat_long_by_city = df[~df['latitude'].apply(is_valid_latitude) & ~df['longitude'].apply(is_valid_longitude)]['city'].value_counts()\n",
    "print(\"\\nNumber of records with incorrect latitude and longitude by city:\")\n",
    "print(incorrect_lat_long_by_city)\n",
    "\n",
    "# Number of duplicated records where id is the column to compare\n",
    "duplicated_records_by_id = df[df.duplicated(subset='id', keep=False)]['id'].nunique()\n",
    "print(\"\\nNumber of duplicated records where id is the column to compare:\")\n",
    "print(duplicated_records_by_id)\n",
    "\n",
    "# Number of distinct records where id is the column to compare\n",
    "distinct_records_by_id = df['id'].nunique()\n",
    "print(\"\\nNumber of distinct records where id is the column to compare:\")\n",
    "print(distinct_records_by_id)\n"
   ]
  },
  {
   "cell_type": "markdown",
   "metadata": {},
   "source": [
    "#### Eliminar registros duplicados. Utilizando el parametro keep = 'last' en este dataset nos sirve para eliminar el registro con latitud y longitud incorrecta"
   ]
  },
  {
   "cell_type": "code",
   "execution_count": 1026,
   "metadata": {},
   "outputs": [
    {
     "name": "stdout",
     "output_type": "stream",
     "text": [
      "(220031, 17)\n"
     ]
    }
   ],
   "source": [
    "# Remove duplicated records based on 'id' column\n",
    "df.drop_duplicates(subset='id', keep='last', inplace=True)\n",
    "\n",
    "# Display the shape of the DataFrame to verify the changes\n",
    "print(df.shape)"
   ]
  },
  {
   "cell_type": "markdown",
   "metadata": {},
   "source": [
    "##### Procedimientos para revisar los valores de latitud y longitud. esto era necesario cuando se habían importado los ficheros de Excel, ya que tenían mal estos valores. Al importar solo los ficheros csv, ese problema desapareció. No los hemos borrado porque pueden ser necesarios."
   ]
  },
  {
   "cell_type": "code",
   "execution_count": 1027,
   "metadata": {},
   "outputs": [],
   "source": [
    "# Funciones comunes de calidad de los datos\n",
    "\n",
    "# Sample function to check if latitude is valid\n",
    "def is_valid_latitude(latitude):\n",
    "    try:\n",
    "        lat = float(latitude)\n",
    "        return -90 <= lat <= 90\n",
    "    except ValueError:\n",
    "        return False\n",
    "\n",
    "# Sample function to check if longitude is valid\n",
    "def is_valid_longitude(longitude):\n",
    "    try:\n",
    "        lon = float(longitude)\n",
    "        return -180 <= lon <= 180\n",
    "    except ValueError:\n",
    "        return False"
   ]
  },
  {
   "cell_type": "code",
   "execution_count": 1028,
   "metadata": {},
   "outputs": [
    {
     "name": "stdout",
     "output_type": "stream",
     "text": [
      "Empty DataFrame\n",
      "Columns: [id, name, host_id, host_name, neighbourhood_group, neighbourhood, latitude, longitude, room_type, price, minimum_nights, number_of_reviews, last_review, reviews_per_month, calculated_host_listings_count, availability_365, city]\n",
      "Index: []\n"
     ]
    }
   ],
   "source": [
    "# Filter the DataFrame to get records with incorrect longitude\n",
    "incorrect_longitude_records = df[~df['longitude'].apply(is_valid_longitude)]\n",
    "\n",
    "# Display the records with incorrect longitude\n",
    "print(incorrect_longitude_records)"
   ]
  },
  {
   "cell_type": "markdown",
   "metadata": {},
   "source": [
    "#### Remover registros con id nulo. Este problema también viene de la importación de ficheros de Excel, los ficheros csv no tenían este problema."
   ]
  },
  {
   "cell_type": "code",
   "execution_count": 1029,
   "metadata": {},
   "outputs": [
    {
     "name": "stdout",
     "output_type": "stream",
     "text": [
      "Number of records with null id removed: 0\n"
     ]
    }
   ],
   "source": [
    "# Count the number of records with null id\n",
    "null_id_count = df['id'].isnull().sum()\n",
    "\n",
    "# Remove records where id is null\n",
    "df = df.dropna(subset=['id'])\n",
    "\n",
    "# Print the number of records affected\n",
    "print(f\"Number of records with null id removed: {null_id_count}\")"
   ]
  },
  {
   "cell_type": "markdown",
   "metadata": {},
   "source": [
    "#### Analizar Neighbourhood group para intentar corregir valores nulos."
   ]
  },
  {
   "cell_type": "code",
   "execution_count": 1030,
   "metadata": {},
   "outputs": [
    {
     "data": {
      "text/html": [
       "<div>\n",
       "<style scoped>\n",
       "    .dataframe tbody tr th:only-of-type {\n",
       "        vertical-align: middle;\n",
       "    }\n",
       "\n",
       "    .dataframe tbody tr th {\n",
       "        vertical-align: top;\n",
       "    }\n",
       "\n",
       "    .dataframe thead th {\n",
       "        text-align: right;\n",
       "    }\n",
       "</style>\n",
       "<table border=\"1\" class=\"dataframe\">\n",
       "  <thead>\n",
       "    <tr style=\"text-align: right;\">\n",
       "      <th></th>\n",
       "      <th>city</th>\n",
       "      <th>neighbourhood</th>\n",
       "      <th>neighbourhood_group</th>\n",
       "      <th>count</th>\n",
       "    </tr>\n",
       "  </thead>\n",
       "  <tbody>\n",
       "    <tr>\n",
       "      <th>0</th>\n",
       "      <td>London</td>\n",
       "      <td>Barking and Dagenham</td>\n",
       "      <td>NaN</td>\n",
       "      <td>372</td>\n",
       "    </tr>\n",
       "    <tr>\n",
       "      <th>1</th>\n",
       "      <td>London</td>\n",
       "      <td>Barnet</td>\n",
       "      <td>NaN</td>\n",
       "      <td>1659</td>\n",
       "    </tr>\n",
       "    <tr>\n",
       "      <th>2</th>\n",
       "      <td>London</td>\n",
       "      <td>Bexley</td>\n",
       "      <td>NaN</td>\n",
       "      <td>269</td>\n",
       "    </tr>\n",
       "    <tr>\n",
       "      <th>3</th>\n",
       "      <td>London</td>\n",
       "      <td>Brent</td>\n",
       "      <td>NaN</td>\n",
       "      <td>2561</td>\n",
       "    </tr>\n",
       "    <tr>\n",
       "      <th>4</th>\n",
       "      <td>London</td>\n",
       "      <td>Bromley</td>\n",
       "      <td>NaN</td>\n",
       "      <td>679</td>\n",
       "    </tr>\n",
       "  </tbody>\n",
       "</table>\n",
       "</div>"
      ],
      "text/plain": [
       "     city         neighbourhood neighbourhood_group  count\n",
       "0  London  Barking and Dagenham                 NaN    372\n",
       "1  London                Barnet                 NaN   1659\n",
       "2  London                Bexley                 NaN    269\n",
       "3  London                 Brent                 NaN   2561\n",
       "4  London               Bromley                 NaN    679"
      ]
     },
     "execution_count": 1030,
     "metadata": {},
     "output_type": "execute_result"
    }
   ],
   "source": [
    "# Create a frequency table of neighbourhood and neighbourhood_group by city, including records where neighbourhood_group is null\n",
    "frequency_table = df.groupby(['city', 'neighbourhood', 'neighbourhood_group'], dropna=False).size().reset_index(name='count')\n",
    "\n",
    "# Display the frequency table\n",
    "frequency_table.head()\n"
   ]
  },
  {
   "cell_type": "markdown",
   "metadata": {},
   "source": [
    "Londres, Milan, Syndey y Tokyio no tienen información del Neighborhood Group.\n",
    "\n",
    "He intentado corregirla buscando informacion de distritos pero está tomando mucho tiempo. De momento lo dejo así.\n",
    "\n"
   ]
  },
  {
   "cell_type": "markdown",
   "metadata": {},
   "source": [
    "### Exploratory Data Analysis"
   ]
  },
  {
   "cell_type": "code",
   "execution_count": 1031,
   "metadata": {},
   "outputs": [
    {
     "name": "stdout",
     "output_type": "stream",
     "text": [
      "<class 'pandas.core.frame.DataFrame'>\n",
      "RangeIndex: 220031 entries, 0 to 220030\n",
      "Data columns (total 17 columns):\n",
      " #   Column                          Non-Null Count   Dtype  \n",
      "---  ------                          --------------   -----  \n",
      " 0   id                              220031 non-null  int64  \n",
      " 1   name                            219964 non-null  object \n",
      " 2   host_id                         220031 non-null  int64  \n",
      " 3   host_name                       219325 non-null  object \n",
      " 4   neighbourhood_group             68513 non-null   object \n",
      " 5   neighbourhood                   220031 non-null  object \n",
      " 6   latitude                        220031 non-null  float64\n",
      " 7   longitude                       220031 non-null  float64\n",
      " 8   room_type                       220031 non-null  object \n",
      " 9   price                           220031 non-null  int64  \n",
      " 10  minimum_nights                  220031 non-null  int64  \n",
      " 11  number_of_reviews               220031 non-null  int64  \n",
      " 12  last_review                     165660 non-null  object \n",
      " 13  reviews_per_month               165660 non-null  float64\n",
      " 14  calculated_host_listings_count  208565 non-null  float64\n",
      " 15  availability_365                208565 non-null  float64\n",
      " 16  city                            220031 non-null  object \n",
      "dtypes: float64(5), int64(5), object(7)\n",
      "memory usage: 28.5+ MB\n"
     ]
    }
   ],
   "source": [
    "df.info()"
   ]
  },
  {
   "cell_type": "markdown",
   "metadata": {},
   "source": [
    "#### Este paso siguiente de convertir características numericas a Float fue necesario debido a los ficheros de Excel. Con los ficheros csv no había problema"
   ]
  },
  {
   "cell_type": "code",
   "execution_count": 1032,
   "metadata": {},
   "outputs": [],
   "source": [
    "# Convert latitude, longitude, and availability_365 to float64\n",
    "df['latitude'] = df['latitude'].astype('float64')\n",
    "df['longitude'] = df['longitude'].astype('float64')\n",
    "df['availability_365'] = df['availability_365'].astype('float64')\n"
   ]
  },
  {
   "cell_type": "markdown",
   "metadata": {},
   "source": [
    "#### Breve análisis de las características con el comando describe"
   ]
  },
  {
   "cell_type": "code",
   "execution_count": 1033,
   "metadata": {},
   "outputs": [
    {
     "data": {
      "text/html": [
       "<div>\n",
       "<style scoped>\n",
       "    .dataframe tbody tr th:only-of-type {\n",
       "        vertical-align: middle;\n",
       "    }\n",
       "\n",
       "    .dataframe tbody tr th {\n",
       "        vertical-align: top;\n",
       "    }\n",
       "\n",
       "    .dataframe thead th {\n",
       "        text-align: right;\n",
       "    }\n",
       "</style>\n",
       "<table border=\"1\" class=\"dataframe\">\n",
       "  <thead>\n",
       "    <tr style=\"text-align: right;\">\n",
       "      <th></th>\n",
       "      <th>id</th>\n",
       "      <th>host_id</th>\n",
       "      <th>latitude</th>\n",
       "      <th>longitude</th>\n",
       "      <th>price</th>\n",
       "      <th>minimum_nights</th>\n",
       "      <th>number_of_reviews</th>\n",
       "      <th>reviews_per_month</th>\n",
       "      <th>calculated_host_listings_count</th>\n",
       "      <th>availability_365</th>\n",
       "    </tr>\n",
       "  </thead>\n",
       "  <tbody>\n",
       "    <tr>\n",
       "      <th>count</th>\n",
       "      <td>2.200310e+05</td>\n",
       "      <td>2.200310e+05</td>\n",
       "      <td>220031.000000</td>\n",
       "      <td>220031.000000</td>\n",
       "      <td>2.200310e+05</td>\n",
       "      <td>220031.000000</td>\n",
       "      <td>220031.000000</td>\n",
       "      <td>165660.000000</td>\n",
       "      <td>208565.000000</td>\n",
       "      <td>208565.000000</td>\n",
       "    </tr>\n",
       "    <tr>\n",
       "      <th>mean</th>\n",
       "      <td>2.240831e+07</td>\n",
       "      <td>8.494528e+07</td>\n",
       "      <td>32.573053</td>\n",
       "      <td>16.428135</td>\n",
       "      <td>9.178157e+02</td>\n",
       "      <td>5.258023</td>\n",
       "      <td>20.129164</td>\n",
       "      <td>1.256772</td>\n",
       "      <td>14.189471</td>\n",
       "      <td>120.330918</td>\n",
       "    </tr>\n",
       "    <tr>\n",
       "      <th>std</th>\n",
       "      <td>1.175490e+07</td>\n",
       "      <td>8.856607e+07</td>\n",
       "      <td>30.144854</td>\n",
       "      <td>76.030471</td>\n",
       "      <td>8.285217e+03</td>\n",
       "      <td>20.118261</td>\n",
       "      <td>43.012277</td>\n",
       "      <td>1.524449</td>\n",
       "      <td>75.122354</td>\n",
       "      <td>134.644491</td>\n",
       "    </tr>\n",
       "    <tr>\n",
       "      <th>min</th>\n",
       "      <td>2.539000e+03</td>\n",
       "      <td>1.944000e+03</td>\n",
       "      <td>-34.135212</td>\n",
       "      <td>-74.244420</td>\n",
       "      <td>0.000000e+00</td>\n",
       "      <td>1.000000</td>\n",
       "      <td>0.000000</td>\n",
       "      <td>0.010000</td>\n",
       "      <td>1.000000</td>\n",
       "      <td>0.000000</td>\n",
       "    </tr>\n",
       "    <tr>\n",
       "      <th>25%</th>\n",
       "      <td>1.338370e+07</td>\n",
       "      <td>1.439602e+07</td>\n",
       "      <td>40.412620</td>\n",
       "      <td>-3.705870</td>\n",
       "      <td>5.500000e+01</td>\n",
       "      <td>1.000000</td>\n",
       "      <td>1.000000</td>\n",
       "      <td>0.200000</td>\n",
       "      <td>1.000000</td>\n",
       "      <td>0.000000</td>\n",
       "    </tr>\n",
       "    <tr>\n",
       "      <th>50%</th>\n",
       "      <td>2.249789e+07</td>\n",
       "      <td>4.640392e+07</td>\n",
       "      <td>40.794240</td>\n",
       "      <td>-0.128380</td>\n",
       "      <td>9.900000e+01</td>\n",
       "      <td>2.000000</td>\n",
       "      <td>4.000000</td>\n",
       "      <td>0.690000</td>\n",
       "      <td>1.000000</td>\n",
       "      <td>64.000000</td>\n",
       "    </tr>\n",
       "    <tr>\n",
       "      <th>75%</th>\n",
       "      <td>3.155445e+07</td>\n",
       "      <td>1.415097e+08</td>\n",
       "      <td>51.496200</td>\n",
       "      <td>9.199535</td>\n",
       "      <td>1.770000e+02</td>\n",
       "      <td>4.000000</td>\n",
       "      <td>19.000000</td>\n",
       "      <td>1.800000</td>\n",
       "      <td>3.000000</td>\n",
       "      <td>244.000000</td>\n",
       "    </tr>\n",
       "    <tr>\n",
       "      <th>max</th>\n",
       "      <td>5.095505e+07</td>\n",
       "      <td>4.117208e+08</td>\n",
       "      <td>51.681690</td>\n",
       "      <td>151.339811</td>\n",
       "      <td>1.000046e+06</td>\n",
       "      <td>1250.000000</td>\n",
       "      <td>896.000000</td>\n",
       "      <td>58.500000</td>\n",
       "      <td>999.000000</td>\n",
       "      <td>365.000000</td>\n",
       "    </tr>\n",
       "  </tbody>\n",
       "</table>\n",
       "</div>"
      ],
      "text/plain": [
       "                 id       host_id       latitude      longitude         price  \\\n",
       "count  2.200310e+05  2.200310e+05  220031.000000  220031.000000  2.200310e+05   \n",
       "mean   2.240831e+07  8.494528e+07      32.573053      16.428135  9.178157e+02   \n",
       "std    1.175490e+07  8.856607e+07      30.144854      76.030471  8.285217e+03   \n",
       "min    2.539000e+03  1.944000e+03     -34.135212     -74.244420  0.000000e+00   \n",
       "25%    1.338370e+07  1.439602e+07      40.412620      -3.705870  5.500000e+01   \n",
       "50%    2.249789e+07  4.640392e+07      40.794240      -0.128380  9.900000e+01   \n",
       "75%    3.155445e+07  1.415097e+08      51.496200       9.199535  1.770000e+02   \n",
       "max    5.095505e+07  4.117208e+08      51.681690     151.339811  1.000046e+06   \n",
       "\n",
       "       minimum_nights  number_of_reviews  reviews_per_month  \\\n",
       "count   220031.000000      220031.000000      165660.000000   \n",
       "mean         5.258023          20.129164           1.256772   \n",
       "std         20.118261          43.012277           1.524449   \n",
       "min          1.000000           0.000000           0.010000   \n",
       "25%          1.000000           1.000000           0.200000   \n",
       "50%          2.000000           4.000000           0.690000   \n",
       "75%          4.000000          19.000000           1.800000   \n",
       "max       1250.000000         896.000000          58.500000   \n",
       "\n",
       "       calculated_host_listings_count  availability_365  \n",
       "count                   208565.000000     208565.000000  \n",
       "mean                        14.189471        120.330918  \n",
       "std                         75.122354        134.644491  \n",
       "min                          1.000000          0.000000  \n",
       "25%                          1.000000          0.000000  \n",
       "50%                          1.000000         64.000000  \n",
       "75%                          3.000000        244.000000  \n",
       "max                        999.000000        365.000000  "
      ]
     },
     "execution_count": 1033,
     "metadata": {},
     "output_type": "execute_result"
    }
   ],
   "source": [
    "df.describe()"
   ]
  },
  {
   "cell_type": "code",
   "execution_count": 1034,
   "metadata": {},
   "outputs": [
    {
     "data": {
      "text/html": [
       "<div>\n",
       "<style scoped>\n",
       "    .dataframe tbody tr th:only-of-type {\n",
       "        vertical-align: middle;\n",
       "    }\n",
       "\n",
       "    .dataframe tbody tr th {\n",
       "        vertical-align: top;\n",
       "    }\n",
       "\n",
       "    .dataframe thead th {\n",
       "        text-align: right;\n",
       "    }\n",
       "</style>\n",
       "<table border=\"1\" class=\"dataframe\">\n",
       "  <thead>\n",
       "    <tr style=\"text-align: right;\">\n",
       "      <th></th>\n",
       "      <th>name</th>\n",
       "      <th>host_name</th>\n",
       "      <th>neighbourhood_group</th>\n",
       "      <th>neighbourhood</th>\n",
       "      <th>room_type</th>\n",
       "      <th>last_review</th>\n",
       "      <th>city</th>\n",
       "    </tr>\n",
       "  </thead>\n",
       "  <tbody>\n",
       "    <tr>\n",
       "      <th>count</th>\n",
       "      <td>219964</td>\n",
       "      <td>219325</td>\n",
       "      <td>68513</td>\n",
       "      <td>220031</td>\n",
       "      <td>220031</td>\n",
       "      <td>165660</td>\n",
       "      <td>220031</td>\n",
       "    </tr>\n",
       "    <tr>\n",
       "      <th>unique</th>\n",
       "      <td>213293</td>\n",
       "      <td>31499</td>\n",
       "      <td>26</td>\n",
       "      <td>562</td>\n",
       "      <td>4</td>\n",
       "      <td>4660</td>\n",
       "      <td>6</td>\n",
       "    </tr>\n",
       "    <tr>\n",
       "      <th>top</th>\n",
       "      <td>Home away from home</td>\n",
       "      <td>David</td>\n",
       "      <td>Manhattan</td>\n",
       "      <td>Westminster</td>\n",
       "      <td>Entire home/apt</td>\n",
       "      <td>2019-06-23</td>\n",
       "      <td>London</td>\n",
       "    </tr>\n",
       "    <tr>\n",
       "      <th>freq</th>\n",
       "      <td>53</td>\n",
       "      <td>1418</td>\n",
       "      <td>21661</td>\n",
       "      <td>9588</td>\n",
       "      <td>128154</td>\n",
       "      <td>1946</td>\n",
       "      <td>85068</td>\n",
       "    </tr>\n",
       "  </tbody>\n",
       "</table>\n",
       "</div>"
      ],
      "text/plain": [
       "                       name host_name neighbourhood_group neighbourhood  \\\n",
       "count                219964    219325               68513        220031   \n",
       "unique               213293     31499                  26           562   \n",
       "top     Home away from home     David           Manhattan   Westminster   \n",
       "freq                     53      1418               21661          9588   \n",
       "\n",
       "              room_type last_review    city  \n",
       "count            220031      165660  220031  \n",
       "unique                4        4660       6  \n",
       "top     Entire home/apt  2019-06-23  London  \n",
       "freq             128154        1946   85068  "
      ]
     },
     "execution_count": 1034,
     "metadata": {},
     "output_type": "execute_result"
    }
   ],
   "source": [
    "df.describe(include='object')"
   ]
  },
  {
   "cell_type": "markdown",
   "metadata": {},
   "source": [
    "### Análisis de fechas"
   ]
  },
  {
   "cell_type": "markdown",
   "metadata": {},
   "source": [
    "#### Esta es la cantidad original de nulos en last_review"
   ]
  },
  {
   "cell_type": "code",
   "execution_count": 1035,
   "metadata": {
    "vscode": {
     "languageId": "ruby"
    }
   },
   "outputs": [
    {
     "name": "stdout",
     "output_type": "stream",
     "text": [
      "Number of null records before conversion: 54371\n"
     ]
    }
   ],
   "source": [
    "# Count the number of null records before conversion\n",
    "null_count_before = df['last_review'].isnull().sum()\n",
    "print(f\"Number of null records before conversion: {null_count_before}\")"
   ]
  },
  {
   "cell_type": "markdown",
   "metadata": {},
   "source": [
    "invalid_last_review_df son los registros que tienen un formato de fecha incorrecto."
   ]
  },
  {
   "cell_type": "code",
   "execution_count": 1036,
   "metadata": {},
   "outputs": [
    {
     "data": {
      "text/html": [
       "<div>\n",
       "<style scoped>\n",
       "    .dataframe tbody tr th:only-of-type {\n",
       "        vertical-align: middle;\n",
       "    }\n",
       "\n",
       "    .dataframe tbody tr th {\n",
       "        vertical-align: top;\n",
       "    }\n",
       "\n",
       "    .dataframe thead th {\n",
       "        text-align: right;\n",
       "    }\n",
       "</style>\n",
       "<table border=\"1\" class=\"dataframe\">\n",
       "  <thead>\n",
       "    <tr style=\"text-align: right;\">\n",
       "      <th></th>\n",
       "      <th>id</th>\n",
       "      <th>name</th>\n",
       "      <th>host_id</th>\n",
       "      <th>host_name</th>\n",
       "      <th>neighbourhood_group</th>\n",
       "      <th>neighbourhood</th>\n",
       "      <th>latitude</th>\n",
       "      <th>longitude</th>\n",
       "      <th>room_type</th>\n",
       "      <th>price</th>\n",
       "      <th>minimum_nights</th>\n",
       "      <th>number_of_reviews</th>\n",
       "      <th>last_review</th>\n",
       "      <th>reviews_per_month</th>\n",
       "      <th>calculated_host_listings_count</th>\n",
       "      <th>availability_365</th>\n",
       "      <th>city</th>\n",
       "      <th>last_review_converted</th>\n",
       "    </tr>\n",
       "  </thead>\n",
       "  <tbody>\n",
       "    <tr>\n",
       "      <th>85068</th>\n",
       "      <td>6400</td>\n",
       "      <td>The Studio Milan</td>\n",
       "      <td>13822</td>\n",
       "      <td>Francesca</td>\n",
       "      <td>NaN</td>\n",
       "      <td>Tibaldi</td>\n",
       "      <td>45.44119</td>\n",
       "      <td>9.17813</td>\n",
       "      <td>Private room</td>\n",
       "      <td>100</td>\n",
       "      <td>4</td>\n",
       "      <td>12</td>\n",
       "      <td>19/04/10</td>\n",
       "      <td>0.14</td>\n",
       "      <td>1.0</td>\n",
       "      <td>358.0</td>\n",
       "      <td>Milan</td>\n",
       "      <td>NaT</td>\n",
       "    </tr>\n",
       "    <tr>\n",
       "      <th>85069</th>\n",
       "      <td>23986</td>\n",
       "      <td>\" Characteristic Milanese flat\"</td>\n",
       "      <td>95941</td>\n",
       "      <td>Jeremy</td>\n",
       "      <td>NaN</td>\n",
       "      <td>Navigli</td>\n",
       "      <td>45.44806</td>\n",
       "      <td>9.17373</td>\n",
       "      <td>Entire home/apt</td>\n",
       "      <td>150</td>\n",
       "      <td>1</td>\n",
       "      <td>15</td>\n",
       "      <td>07/09/20</td>\n",
       "      <td>0.21</td>\n",
       "      <td>1.0</td>\n",
       "      <td>363.0</td>\n",
       "      <td>Milan</td>\n",
       "      <td>NaT</td>\n",
       "    </tr>\n",
       "    <tr>\n",
       "      <th>85070</th>\n",
       "      <td>28300</td>\n",
       "      <td>nice flat near the park</td>\n",
       "      <td>121663</td>\n",
       "      <td>Marta</td>\n",
       "      <td>NaN</td>\n",
       "      <td>Sarpi</td>\n",
       "      <td>45.47647</td>\n",
       "      <td>9.17359</td>\n",
       "      <td>Private room</td>\n",
       "      <td>180</td>\n",
       "      <td>1</td>\n",
       "      <td>8</td>\n",
       "      <td>22/04/12</td>\n",
       "      <td>0.11</td>\n",
       "      <td>1.0</td>\n",
       "      <td>365.0</td>\n",
       "      <td>Milan</td>\n",
       "      <td>NaT</td>\n",
       "    </tr>\n",
       "    <tr>\n",
       "      <th>85071</th>\n",
       "      <td>32119</td>\n",
       "      <td>Nico &amp; Cynthia's Easy Yellow Suite</td>\n",
       "      <td>138683</td>\n",
       "      <td>Nico&amp;Cinzia</td>\n",
       "      <td>NaN</td>\n",
       "      <td>Viale Monza</td>\n",
       "      <td>45.52014</td>\n",
       "      <td>9.22300</td>\n",
       "      <td>Entire home/apt</td>\n",
       "      <td>75</td>\n",
       "      <td>2</td>\n",
       "      <td>15</td>\n",
       "      <td>01/07/18</td>\n",
       "      <td>0.23</td>\n",
       "      <td>3.0</td>\n",
       "      <td>200.0</td>\n",
       "      <td>Milan</td>\n",
       "      <td>NaT</td>\n",
       "    </tr>\n",
       "    <tr>\n",
       "      <th>85072</th>\n",
       "      <td>32649</td>\n",
       "      <td>Nico&amp;Cinzia's Red Easy Suite!</td>\n",
       "      <td>138683</td>\n",
       "      <td>Nico&amp;Cinzia</td>\n",
       "      <td>NaN</td>\n",
       "      <td>Viale Monza</td>\n",
       "      <td>45.51874</td>\n",
       "      <td>9.22495</td>\n",
       "      <td>Entire home/apt</td>\n",
       "      <td>71</td>\n",
       "      <td>2</td>\n",
       "      <td>29</td>\n",
       "      <td>23/10/16</td>\n",
       "      <td>0.71</td>\n",
       "      <td>3.0</td>\n",
       "      <td>308.0</td>\n",
       "      <td>Milan</td>\n",
       "      <td>NaT</td>\n",
       "    </tr>\n",
       "  </tbody>\n",
       "</table>\n",
       "</div>"
      ],
      "text/plain": [
       "          id                                name  host_id    host_name  \\\n",
       "85068   6400                    The Studio Milan    13822    Francesca   \n",
       "85069  23986     \" Characteristic Milanese flat\"    95941       Jeremy   \n",
       "85070  28300             nice flat near the park   121663        Marta   \n",
       "85071  32119  Nico & Cynthia's Easy Yellow Suite   138683  Nico&Cinzia   \n",
       "85072  32649       Nico&Cinzia's Red Easy Suite!   138683  Nico&Cinzia   \n",
       "\n",
       "      neighbourhood_group neighbourhood  latitude  longitude        room_type  \\\n",
       "85068                 NaN       Tibaldi  45.44119    9.17813     Private room   \n",
       "85069                 NaN       Navigli  45.44806    9.17373  Entire home/apt   \n",
       "85070                 NaN         Sarpi  45.47647    9.17359     Private room   \n",
       "85071                 NaN   Viale Monza  45.52014    9.22300  Entire home/apt   \n",
       "85072                 NaN   Viale Monza  45.51874    9.22495  Entire home/apt   \n",
       "\n",
       "       price  minimum_nights  number_of_reviews last_review  \\\n",
       "85068    100               4                 12    19/04/10   \n",
       "85069    150               1                 15    07/09/20   \n",
       "85070    180               1                  8    22/04/12   \n",
       "85071     75               2                 15    01/07/18   \n",
       "85072     71               2                 29    23/10/16   \n",
       "\n",
       "       reviews_per_month  calculated_host_listings_count  availability_365  \\\n",
       "85068               0.14                             1.0             358.0   \n",
       "85069               0.21                             1.0             363.0   \n",
       "85070               0.11                             1.0             365.0   \n",
       "85071               0.23                             3.0             200.0   \n",
       "85072               0.71                             3.0             308.0   \n",
       "\n",
       "        city last_review_converted  \n",
       "85068  Milan                   NaT  \n",
       "85069  Milan                   NaT  \n",
       "85070  Milan                   NaT  \n",
       "85071  Milan                   NaT  \n",
       "85072  Milan                   NaT  "
      ]
     },
     "execution_count": 1036,
     "metadata": {},
     "output_type": "execute_result"
    }
   ],
   "source": [
    "# Convert 'last_review' to datetime64[ns] with errors='coerce' to handle invalid parsing\n",
    "df['last_review_converted'] = pd.to_datetime(df['last_review'], errors='coerce')\n",
    "\n",
    "# Filter the DataFrame to get records where 'last_review_converted' is NaT (Not a Time)\n",
    "invalid_last_review_df = df[df['last_review_converted'].isna() & df['last_review'].notna()]\n",
    "\n",
    "# Drop the temporary 'last_review_converted' column\n",
    "df.drop(columns=['last_review_converted'], inplace=True)\n",
    "\n",
    "# Display the DataFrame with invalid 'last_review' values\n",
    "invalid_last_review_df.head()"
   ]
  },
  {
   "cell_type": "markdown",
   "metadata": {},
   "source": [
    "#### Análisis rápido de fechas con formato incorrecto por ciudad (Sólo Milán tiene formato incorrrecto)"
   ]
  },
  {
   "cell_type": "code",
   "execution_count": 1037,
   "metadata": {},
   "outputs": [
    {
     "name": "stdout",
     "output_type": "stream",
     "text": [
      "city\n",
      "Milan    13260\n",
      "dtype: int64\n"
     ]
    }
   ],
   "source": [
    "# Group invalid_last_review_df by city and count the number of records\n",
    "invalid_last_review_count_by_city = invalid_last_review_df.groupby('city').size()\n",
    "print(invalid_last_review_count_by_city)\n"
   ]
  },
  {
   "cell_type": "markdown",
   "metadata": {},
   "source": [
    "En el dataframe temporal, intentar convertir last_review_converted a datetime64[ns]. Como se utiliza la opción coerce, se convertirían en nulos aquellos valores que no puedan cambiarse correctamente."
   ]
  },
  {
   "cell_type": "code",
   "execution_count": 1038,
   "metadata": {},
   "outputs": [
    {
     "name": "stderr",
     "output_type": "stream",
     "text": [
      "C:\\Users\\jvazq\\AppData\\Local\\Temp\\ipykernel_2672\\2076412246.py:2: SettingWithCopyWarning: \n",
      "A value is trying to be set on a copy of a slice from a DataFrame.\n",
      "Try using .loc[row_indexer,col_indexer] = value instead\n",
      "\n",
      "See the caveats in the documentation: https://pandas.pydata.org/pandas-docs/stable/user_guide/indexing.html#returning-a-view-versus-a-copy\n",
      "  invalid_last_review_df['last_review_converted'] = pd.to_datetime(invalid_last_review_df['last_review'], format='%d/%m/%y', errors='coerce')\n"
     ]
    }
   ],
   "source": [
    "# Convert 'last_review' to datetime64[ns] with the specified format 'DD/MM/YY'\n",
    "invalid_last_review_df['last_review_converted'] = pd.to_datetime(invalid_last_review_df['last_review'], format='%d/%m/%y', errors='coerce')\n"
   ]
  },
  {
   "cell_type": "markdown",
   "metadata": {},
   "source": [
    "Actualiza df['last_review'] con el valor correcto de fecha que esta en invalid_last_review_df"
   ]
  },
  {
   "cell_type": "code",
   "execution_count": 1039,
   "metadata": {},
   "outputs": [],
   "source": [
    "# Update df['last_review'] with invalid_last_review_df['last_review_converted']\n",
    "df.update(invalid_last_review_df[['last_review_converted']].rename(columns={'last_review_converted': 'last_review'}))\n"
   ]
  },
  {
   "cell_type": "markdown",
   "metadata": {},
   "source": [
    "Validación final de la conversión a datetime en toda la columna. Los nulos tienen que ser los mismos antes y después de intentar convertir a fecha"
   ]
  },
  {
   "cell_type": "code",
   "execution_count": 1040,
   "metadata": {
    "vscode": {
     "languageId": "ruby"
    }
   },
   "outputs": [
    {
     "name": "stdout",
     "output_type": "stream",
     "text": [
      "Number of null records before conversion: 54371\n",
      "Number of null records after conversion: 54371\n"
     ]
    }
   ],
   "source": [
    "# Count the number of null records before conversion\n",
    "null_count_before = df['last_review'].isnull().sum()\n",
    "print(f\"Number of null records before conversion: {null_count_before}\")\n",
    "\n",
    "# Convert 'last_review' to datetime64[ns] with errors='coerce' to handle invalid parsing\n",
    "df['last_review'] = pd.to_datetime(df['last_review'], errors='coerce')\n",
    "\n",
    "# Count the number of null records after conversion\n",
    "null_count_after = df['last_review'].isnull().sum()\n",
    "print(f\"Number of null records after conversion: {null_count_after}\")"
   ]
  },
  {
   "cell_type": "markdown",
   "metadata": {},
   "source": [
    "Confirmar que last_review ya es del tipo datetime"
   ]
  },
  {
   "cell_type": "code",
   "execution_count": 1041,
   "metadata": {
    "vscode": {
     "languageId": "ruby"
    }
   },
   "outputs": [
    {
     "name": "stdout",
     "output_type": "stream",
     "text": [
      "<class 'pandas.core.frame.DataFrame'>\n",
      "RangeIndex: 220031 entries, 0 to 220030\n",
      "Data columns (total 17 columns):\n",
      " #   Column                          Non-Null Count   Dtype         \n",
      "---  ------                          --------------   -----         \n",
      " 0   id                              220031 non-null  int64         \n",
      " 1   name                            219964 non-null  object        \n",
      " 2   host_id                         220031 non-null  int64         \n",
      " 3   host_name                       219325 non-null  object        \n",
      " 4   neighbourhood_group             68513 non-null   object        \n",
      " 5   neighbourhood                   220031 non-null  object        \n",
      " 6   latitude                        220031 non-null  float64       \n",
      " 7   longitude                       220031 non-null  float64       \n",
      " 8   room_type                       220031 non-null  object        \n",
      " 9   price                           220031 non-null  int64         \n",
      " 10  minimum_nights                  220031 non-null  int64         \n",
      " 11  number_of_reviews               220031 non-null  int64         \n",
      " 12  last_review                     165660 non-null  datetime64[ns]\n",
      " 13  reviews_per_month               165660 non-null  float64       \n",
      " 14  calculated_host_listings_count  208565 non-null  float64       \n",
      " 15  availability_365                208565 non-null  float64       \n",
      " 16  city                            220031 non-null  object        \n",
      "dtypes: datetime64[ns](1), float64(5), int64(5), object(6)\n",
      "memory usage: 28.5+ MB\n"
     ]
    }
   ],
   "source": [
    "df.info()"
   ]
  },
  {
   "cell_type": "markdown",
   "metadata": {},
   "source": [
    "\n",
    "#### Rellenando los nulos en last_review y reviews_per_month y calculando la fecha de publicación\n",
    "\n",
    "1. Utilizando reviews_per_month y number_of_reviews se obtiene el numero de meses \"activo\" de una publicación.\n",
    "\n",
    "2. Para cada ciudad, se asume que la fecha máxima de last review corresponde al día que se extrajo la información de dicha ciudad.\n",
    "\n",
    "3. Por cada publicación, se resta el número de meses activo desde la fecha máxima por ciudad.\n",
    "\n",
    "4. Hay algunos casos donde después de hacer esto la fecha de publicación era mayor que la fecha del último comentario. Para rescatar ese 8% de los registros, que no son pocos. se optó por asignar como fecha de publicación la misma fecha del útimo comentario. Puede tener sentido porque en general esos registros no tienen apenas reviews.\n",
    "\n",
    "5. Los registros que no tenían fecha de last_review se se consideran como nuevos y se les asigna como fecha de last review y de publicación la misma fecha maxima del dataset para esa ciudad.\n",
    "\n",
    "6. 36% de los registros tienen availability_365 = 0 y aunque no pueden considerarse definitivamente inactivos, sí es necesario tener en cuenta esta consideración.\n",
    "\n",
    "7. Se elimina la lógica de anuncios inactivos ya que deja de tener sentido con todos los registros llenos y aceptando que availability_365 es un dato que da pistas sobre la actividad."
   ]
  },
  {
   "cell_type": "code",
   "execution_count": 1042,
   "metadata": {
    "vscode": {
     "languageId": "ruby"
    }
   },
   "outputs": [],
   "source": [
    "\n",
    "# Generate the 'months_published' column by dividing 'number_of_reviews' by 'reviews_per_month'\n",
    "df['months_published'] = df['number_of_reviews'] / df['reviews_per_month']\n",
    "\n",
    "# Find the maximum 'last_review' date for each city\n",
    "max_last_review_by_city = df.groupby('city')['last_review'].max().reset_index()\n",
    "max_last_review_by_city.rename(columns={'last_review': 'max_last_review'}, inplace=True)\n",
    "\n",
    "# Merge the maximum 'last_review' date back into the original DataFrame\n",
    "df = df.merge(max_last_review_by_city, on='city', how='left')\n",
    "\n",
    "# Use the maximum 'last_review' date to create 'date_published' by subtracting the number of months. If resulting date is greater than 'last_review', use 'last_review' instead\n",
    "df['date_published'] = df.apply(\n",
    "    lambda row: (\n",
    "        row['last_review'] if (\n",
    "            pd.notnull(row['last_review']) and \n",
    "            pd.notnull(row['max_last_review']) and \n",
    "            pd.notnull(row['months_published']) and \n",
    "            (row['max_last_review'] - pd.DateOffset(months=int(row['months_published']))) > row['last_review']\n",
    "        ) else (\n",
    "            row['max_last_review'] - pd.DateOffset(months=int(row['months_published'])) if (\n",
    "                pd.notnull(row['max_last_review']) and \n",
    "                pd.notnull(row['months_published'])\n",
    "            ) else row['max_last_review'] if pd.notnull(row['max_last_review']) and pd.isnull(row['last_review']) else None\n",
    "        )\n",
    "    ),\n",
    "    axis=1\n",
    ")\n",
    "\n",
    "# Fill 'reviews_per_month' with 'number_of_reviews' where both 'last_review' and 'reviews_per_month' are null\n",
    "df.loc[df['last_review'].isnull() & df['reviews_per_month'].isnull(), 'reviews_per_month'] = df['number_of_reviews']\n",
    "\n",
    "# Update 'last_review' with 'date_published' where 'last_review' is null\n",
    "df['last_review'] = df.apply(\n",
    "    lambda row: row['max_last_review'] if pd.isnull(row['last_review']) and pd.notnull(row['max_last_review']) else row['last_review'],\n",
    "    axis=1\n",
    ")\n",
    "\n",
    "# Drop the intermediate columns\n",
    "df.drop(columns=['max_last_review','months_published'], inplace=True)\n",
    "\n"
   ]
  },
  {
   "cell_type": "markdown",
   "metadata": {},
   "source": [
    "#### Creación de columnas de precio en USD y EUR, además de la columna en moneda local que ya se incluía en el dataset\n",
    "\n",
    "Se asignan las tasas de conversión mensuales históricas del último mes completo previo a la fecha de extracción de los ficheros que se considera como tal la fecha máxima de last_review por ciudad. "
   ]
  },
  {
   "cell_type": "code",
   "execution_count": 1043,
   "metadata": {
    "vscode": {
     "languageId": "ruby"
    }
   },
   "outputs": [],
   "source": [
    "# Provided city dictionary\n",
    "city_dict = {\n",
    "    'London': {'USD': 1.2940, 'EUR': 1.1598},\n",
    "    'Milan': {'USD': 1.1857, 'EUR': 1.00},\n",
    "    'Ny': {'USD': 1.00, 'EUR': 0.8797},\n",
    "    'Sydney': {'USD': 0.7046, 'EUR': 0.6151},\n",
    "    'Tokyo': {'USD': 0.00921, 'EUR': 0.00825},\n",
    "    'Madrid': {'USD': 1.17, 'EUR': 1.00}\n",
    "}\n",
    "\n",
    "# Convert the city dictionary to a DataFrame\n",
    "city_df = pd.DataFrame.from_dict(city_dict, orient='index').reset_index()\n",
    "city_df.rename(columns={'index': 'city'}, inplace=True)\n",
    "\n",
    "# Assuming max_last_review_city is your existing DataFrame\n",
    "# Merge the city_df with max_last_review_city on the 'city' column\n",
    "#max_last_review_by_city = max_last_review_by_city.merge(city_df, on='city', how='left')\n",
    "\n",
    "df = df.merge(city_df, on='city', how='left')\n",
    "\n",
    "df['price_usd'] = df.apply(\n",
    "    lambda row: row['price'] * row['USD'] if pd.notnull(row['price']) else pd.NaN,\n",
    "    axis=1\n",
    ")\n",
    "\n",
    "df['price_eur'] = df.apply(\n",
    "    lambda row: row['price'] * row['EUR'] if pd.notnull(row['price']) else pd.NaN,\n",
    "    axis=1\n",
    ")\n",
    "\n",
    "df['price_usd'] = df['price_usd'].round(2)\n",
    "df['price_eur'] = df['price_eur'].round(2)\n",
    "\n",
    "# Drop the intermediate columns\n",
    "df.drop(columns=['USD','EUR'], inplace=True)"
   ]
  },
  {
   "cell_type": "markdown",
   "metadata": {},
   "source": [
    "Analizar gráficamente la distribución de las publicaciones de anuncios por fecha de publicación"
   ]
  },
  {
   "cell_type": "code",
   "execution_count": 1044,
   "metadata": {},
   "outputs": [
    {
     "data": {
      "image/png": "[encoded data removed]",
      "text/plain": [
       "<Figure size 1800x800 with 6 Axes>"
      ]
     },
     "metadata": {},
     "output_type": "display_data"
    }
   ],
   "source": [
    "import matplotlib.pyplot as plt\n",
    "import seaborn as sns\n",
    "\n",
    "# Group by date_published and city to get the frequency per date\n",
    "date_freq = df.groupby(['date_published', 'city']).size().reset_index(name='frequency')\n",
    "\n",
    "# Set the aesthetic style of the plots\n",
    "sns.set_style(\"whitegrid\")\n",
    "\n",
    "# Create a FacetGrid to plot multiple line plots, one for each city\n",
    "g = sns.FacetGrid(date_freq, col=\"city\", col_wrap=3, height=4, aspect=1.5)\n",
    "\n",
    "# Map the data to the FacetGrid\n",
    "g.map(sns.lineplot, \"date_published\", \"frequency\")\n",
    "\n",
    "# Add titles and labels\n",
    "g.set_titles(\"{col_name}\")\n",
    "g.set_axis_labels(\"Date Published\", \"Frequency\")\n",
    "g.fig.suptitle('Frequency per Date by City', y=1.02)\n",
    "\n",
    "# Rotate x-axis labels for better readability\n",
    "for ax in g.axes.flat:\n",
    "    for label in ax.get_xticklabels():\n",
    "        label.set_rotation(45)\n",
    "        label.set_horizontalalignment('right')\n",
    "\n",
    "plt.show()"
   ]
  },
  {
   "cell_type": "markdown",
   "metadata": {},
   "source": [
    "Analizar los valores del campo numero de reviews cuando reviews por mes son nulas"
   ]
  },
  {
   "cell_type": "code",
   "execution_count": 1045,
   "metadata": {
    "vscode": {
     "languageId": "ruby"
    }
   },
   "outputs": [
    {
     "name": "stdout",
     "output_type": "stream",
     "text": [
      "Number of records where 'reviews_per_month' is null and 'number_of_reviews' is equal to zero, by city:\n",
      "Series([], dtype: int64)\n",
      "\n",
      "Number of records where 'reviews_per_month' is null and 'number_of_reviews' is greater than zero, by city:\n",
      "Series([], dtype: int64)\n"
     ]
    }
   ],
   "source": [
    "# Filter the DataFrame where 'reviews_per_month' is null\n",
    "null_reviews_per_month_df = df[df['reviews_per_month'].isnull()]\n",
    "\n",
    "# Group by city and count the number of records where 'number_of_reviews' is equal to zero\n",
    "zero_reviews_count = null_reviews_per_month_df[null_reviews_per_month_df['number_of_reviews'] == 0].groupby('city').size()\n",
    "\n",
    "# Group by city and count the number of records where 'number_of_reviews' is greater than zero\n",
    "greater_than_zero_reviews_count = null_reviews_per_month_df[null_reviews_per_month_df['number_of_reviews'] > 0].groupby('city').size()\n",
    "\n",
    "# Print the results\n",
    "print(\"Number of records where 'reviews_per_month' is null and 'number_of_reviews' is equal to zero, by city:\")\n",
    "print(zero_reviews_count)\n",
    "\n",
    "print(\"\\nNumber of records where 'reviews_per_month' is null and 'number_of_reviews' is greater than zero, by city:\")\n",
    "print(greater_than_zero_reviews_count)\n"
   ]
  },
  {
   "cell_type": "markdown",
   "metadata": {},
   "source": [
    "Fechas mínimas y máximas de publicación de anuncios:"
   ]
  },
  {
   "cell_type": "code",
   "execution_count": 1046,
   "metadata": {},
   "outputs": [
    {
     "name": "stdout",
     "output_type": "stream",
     "text": [
      "              min        max\n",
      "city                        \n",
      "London 2009-11-06 2019-11-06\n",
      "Madrid 2010-02-17 2021-04-17\n",
      "Milan  2010-04-19 2021-07-11\n",
      "Ny     2008-11-08 2019-07-08\n",
      "Sydney 2010-06-07 2018-12-07\n",
      "Tokyo  2011-08-27 2019-06-27\n"
     ]
    }
   ],
   "source": [
    "\n",
    "\n",
    "# Group by city and aggregate to find the minimum and maximum dates\n",
    "date_range_by_city = df.groupby('city')['date_published'].agg(['min', 'max'])\n",
    "\n",
    "# Display the result\n",
    "print(date_range_by_city)\n"
   ]
  },
  {
   "cell_type": "markdown",
   "metadata": {},
   "source": [
    "## Neighbourhood Group"
   ]
  },
  {
   "cell_type": "markdown",
   "metadata": {},
   "source": [
    "#### London"
   ]
  },
  {
   "cell_type": "code",
   "execution_count": 1047,
   "metadata": {},
   "outputs": [
    {
     "name": "stdout",
     "output_type": "stream",
     "text": [
      "['Lambeth' 'Islington' 'Kensington and Chelsea' 'Westminster' 'Wandsworth'\n",
      " 'Croydon' 'Tower Hamlets' 'Hammersmith and Fulham' 'Barnet' 'Merton'\n",
      " 'Hounslow' 'Camden' 'Haringey' 'Richmond upon Thames' 'Southwark'\n",
      " 'Hackney' 'Brent' 'Ealing' 'Waltham Forest' 'Newham' 'Lewisham' 'Enfield'\n",
      " 'City of London' 'Greenwich' 'Bromley' 'Hillingdon' 'Havering'\n",
      " 'Barking and Dagenham' 'Harrow' 'Redbridge' 'Kingston upon Thames'\n",
      " 'Bexley' 'Sutton']\n"
     ]
    }
   ],
   "source": [
    "# Select distinct neighbourhoods where city is London\n",
    "distinct_neighbourhoods_london = df[df['city'] == 'London']['neighbourhood'].unique()\n",
    "\n",
    "# Display the distinct neighbourhoods\n",
    "print(distinct_neighbourhoods_london)"
   ]
  },
  {
   "cell_type": "code",
   "execution_count": 1048,
   "metadata": {},
   "outputs": [
    {
     "name": "stdout",
     "output_type": "stream",
     "text": [
      "Number of nulls in 'neighbourhood_group' before mapping: 85068\n",
      "Number of nulls in 'neighbourhood_group' before mapping: 0\n"
     ]
    }
   ],
   "source": [
    "# Dictionary of London's boroughs with their corresponding sub-regions\n",
    "london_boroughs_subregions = {\n",
    "    'Barking and Dagenham': 'East',\n",
    "    'Barnet': 'North',\n",
    "    'Bexley': 'East',\n",
    "    'Brent': 'West',\n",
    "    'Bromley': 'South',\n",
    "    'Camden': 'Central',\n",
    "    'Croydon': 'South',\n",
    "    'Ealing': 'West',\n",
    "    'Enfield': 'North',\n",
    "    'Greenwich': 'East',\n",
    "    'Hackney': 'Central',\n",
    "    'Hammersmith and Fulham': 'West',\n",
    "    'Haringey': 'North',\n",
    "    'Harrow': 'West',\n",
    "    'Havering': 'East',\n",
    "    'Hillingdon': 'West',\n",
    "    'Hounslow': 'West',\n",
    "    'Islington': 'Central',\n",
    "    'Kensington and Chelsea': 'Central',\n",
    "    'Kingston upon Thames': 'South',\n",
    "    'Lambeth': 'Central',\n",
    "    'Lewisham': 'Central',\n",
    "    'Merton': 'South',\n",
    "    'Newham': 'East',\n",
    "    'Redbridge': 'East',\n",
    "    'Richmond upon Thames': 'South',\n",
    "    'Southwark': 'Central',\n",
    "    'Sutton': 'South',\n",
    "    'Tower Hamlets': 'Central',\n",
    "    'Waltham Forest': 'East',\n",
    "    'Wandsworth': 'Central',\n",
    "    'Westminster': 'Central',\n",
    "    'City of London': 'Central'\n",
    "}\n",
    "\n",
    "# Print number of nulls in neighbourhood_group before mapping\n",
    "print(\"Number of nulls in 'neighbourhood_group' before mapping:\", df.loc[df['city'] == 'London', 'neighbourhood_group'].isnull().sum())\n",
    "\n",
    "# Map the neighbourhood to the corresponding sub-region for London\n",
    "df.loc[df['city'] == 'London', 'neighbourhood_group'] = df.loc[df['city'] == 'London', 'neighbourhood'].map(london_boroughs_subregions)\n",
    "\n",
    "# Print number of nulls in neighbourhood_group after mapping\n",
    "print(\"Number of nulls in 'neighbourhood_group' before mapping:\", df.loc[df['city'] == 'London', 'neighbourhood_group'].isnull().sum())"
   ]
  },
  {
   "cell_type": "markdown",
   "metadata": {},
   "source": [
    "#### Sydney"
   ]
  },
  {
   "cell_type": "code",
   "execution_count": 1049,
   "metadata": {},
   "outputs": [
    {
     "name": "stdout",
     "output_type": "stream",
     "text": [
      "['Sydney' 'Manly' 'Leichhardt' 'Woollahra' 'North Sydney' 'Waverley'\n",
      " 'Mosman' 'Pittwater' 'Lane Cove' 'Marrickville' 'The Hills Shire'\n",
      " 'Hornsby' 'Warringah' 'Randwick' 'Sutherland Shire' 'Ku-Ring-Gai'\n",
      " 'Canterbury' 'Blacktown' 'Willoughby' 'Auburn' 'Canada Bay' 'Ashfield'\n",
      " 'City Of Kogarah' 'Parramatta' 'Hurstville' 'Ryde' 'Rockdale'\n",
      " 'Botany Bay' 'Holroyd' 'Penrith' 'Hunters Hill' 'Burwood' 'Campbelltown'\n",
      " 'Strathfield' 'Camden' 'Liverpool' 'Bankstown' 'Fairfield']\n",
      "Number of nulls in 'neighbourhood_group' before mapping: 36662\n"
     ]
    }
   ],
   "source": [
    "# Select distinct neighbourhoods where city is London\n",
    "distinct_neighbourhoods_sydney = df[df['city'] == 'Sydney']['neighbourhood'].unique()\n",
    "\n",
    "# Display the distinct neighbourhoods\n",
    "print(distinct_neighbourhoods_sydney)\n",
    "\n",
    "# Print number of nulls in neighbourhood_group before mapping\n",
    "print(\"Number of nulls in 'neighbourhood_group' before mapping:\", df.loc[df['city'] == 'Sydney', 'neighbourhood_group'].isnull().sum())"
   ]
  },
  {
   "cell_type": "code",
   "execution_count": 1050,
   "metadata": {},
   "outputs": [
    {
     "name": "stdout",
     "output_type": "stream",
     "text": [
      "Number of nulls in 'neighbourhood_group' before mapping: 36662\n",
      "Number of nulls in 'neighbourhood_group' after mapping: 0\n"
     ]
    }
   ],
   "source": [
    "# Dictionary of Sydney's neighbourhoods with their corresponding higher-level regions\n",
    "sydney_neighbourhoods_regions = {\n",
    "    'Sydney': 'Sydney',\n",
    "    'Manly': 'Northern Beaches',\n",
    "    'Leichhardt': 'Inner West',\n",
    "    'Woollahra': 'Eastern Suburbs',\n",
    "    'North Sydney': 'Lower North Shore',\n",
    "    'Waverley': 'Eastern Suburbs',\n",
    "    'Mosman': 'Lower North Shore',\n",
    "    'Pittwater': 'Northern Beaches',\n",
    "    'Lane Cove': 'Lower North Shore',\n",
    "    'Marrickville': 'Inner West',\n",
    "    'The Hills Shire': 'Hills District',\n",
    "    'Hornsby': 'Upper North Shore',\n",
    "    'Warringah': 'Northern Beaches',\n",
    "    'Randwick': 'Eastern Suburbs',\n",
    "    'Sutherland Shire': 'Southern Sydney',\n",
    "    'Ku-Ring-Gai': 'Upper North Shore',\n",
    "    'Canterbury': 'Inner West',\n",
    "    'Blacktown': 'Western Sydney',\n",
    "    'Willoughby': 'Lower North Shore',\n",
    "    'Auburn': 'Western Sydney',\n",
    "    'Canada Bay': 'Inner West',\n",
    "    'Ashfield': 'Inner West',\n",
    "    'City Of Kogarah': 'Southern Sydney',\n",
    "    'Parramatta': 'Western Sydney',\n",
    "    'Hurstville': 'Southern Sydney',\n",
    "    'Ryde': 'Northern Suburbs',\n",
    "    'Rockdale': 'Southern Sydney',\n",
    "    'Botany Bay': 'Eastern Suburbs',\n",
    "    'Holroyd': 'Western Sydney',\n",
    "    'Penrith': 'Western Sydney',\n",
    "    'Hunters Hill': 'Lower North Shore',\n",
    "    'Burwood': 'Inner West',\n",
    "    'Campbelltown': 'South-western Sydney',\n",
    "    'Strathfield': 'Inner West',\n",
    "    'Camden': 'South-western Sydney',\n",
    "    'Liverpool': 'South-western Sydney',\n",
    "    'Bankstown': 'Western Sydney',\n",
    "    'Fairfield': 'Western Sydney'\n",
    "}\n",
    "\n",
    "# Print number of nulls in neighbourhood_group before mapping\n",
    "print(\"Number of nulls in 'neighbourhood_group' before mapping:\", df.loc[df['city'] == 'Sydney', 'neighbourhood_group'].isnull().sum())\n",
    "\n",
    "# Map the neighbourhood to the corresponding higher-level region for Sydney\n",
    "df.loc[df['city'] == 'Sydney', 'neighbourhood_group'] = df.loc[df['city'] == 'Sydney', 'neighbourhood'].map(sydney_neighbourhoods_regions)\n",
    "\n",
    "# Print number of nulls in neighbourhood_group after mapping\n",
    "print(\"Number of nulls in 'neighbourhood_group' after mapping:\", df.loc[df['city'] == 'Sydney', 'neighbourhood_group'].isnull().sum())"
   ]
  },
  {
   "cell_type": "markdown",
   "metadata": {},
   "source": [
    "#### Milan"
   ]
  },
  {
   "cell_type": "code",
   "execution_count": 1051,
   "metadata": {},
   "outputs": [
    {
     "name": "stdout",
     "output_type": "stream",
     "text": [
      "['Tibaldi' 'Navigli' 'Sarpi' 'Viale Monza' 'Buenos Aires - Venezia'\n",
      " 'Magenta - S. Vittore' 'Centrale' 'Xxii Marzo' 'Brera' 'Duomo' 'Ticinese'\n",
      " 'Isola' 'Bande Nere' 'Washington' 'Umbria - Molise'\n",
      " 'Parco Forlanini - Ortica' 'Lambrate' 'Villapizzone' 'Guastalla'\n",
      " \"Citta' Studi\" 'Stadera' 'S. Siro' 'S. Cristoforo' 'Giambellino' 'Padova'\n",
      " 'Loreto' 'De Angeli - Monte Rosa' 'Bovisasca' 'Porta Romana' 'Tortona'\n",
      " 'Gratosoglio - Ticinello' 'Vigentina' 'Bicocca' 'Garibaldi Repubblica'\n",
      " 'Ghisolfa' 'Ripamonti' 'Portello' 'Sacco' 'Parco Lambro - Cimiano'\n",
      " 'Ronchetto Sul Naviglio' 'Bovisa' 'Lodi - Corvetto' 'Forze Armate'\n",
      " 'Baggio' 'Barona' 'Pagano' 'Farini' 'Scalo Romana' 'Corsica' 'Greco'\n",
      " 'Gallaratese' 'Ex Om - Morivione' 'Ortomercato' 'Maciachini - Maggiolina'\n",
      " \"Niguarda - Ca' Granda\" 'Maggiore - Musocco' 'Lorenteggio' 'Dergano'\n",
      " 'Tre Torri' 'Adriano' 'Quinto Romano' 'Quarto Cagnino' 'Comasina'\n",
      " 'Rogoredo' 'Qt 8' 'Selinunte' 'Mecenate' 'Quarto Oggiaro'\n",
      " 'Triulzo Superiore' 'Affori' 'Bruzzano' \"Parco Monlue' - Ponte Lambro\"\n",
      " 'Chiaravalle' 'Giardini Porta Venezia' 'Parco Sempione'\n",
      " 'Parco Bosco In Citt\\x85' 'Parco Agricolo Sud' 'Figino' 'Parco Nord'\n",
      " 'Parco Delle Abbazie' 'Parco Dei Navigli' 'Trenno' 'Cantalupa'\n",
      " 'Quintosole' 'Muggiano' 'Stephenson' 'Cascina Triulza - Expo']\n",
      "Number of nulls in 'neighbourhood_group' before mapping: 18322\n"
     ]
    }
   ],
   "source": [
    "# Select distinct neighbourhoods where city is Milan\n",
    "distinct_neighbourhoods_milan = df[df['city'] == 'Milan']['neighbourhood'].unique()\n",
    "\n",
    "# Display the distinct neighbourhoods\n",
    "print(distinct_neighbourhoods_milan)\n",
    "\n",
    "# Print number of nulls in neighbourhood_group before mapping\n",
    "print(\"Number of nulls in 'neighbourhood_group' before mapping:\", df.loc[df['city'] == 'Milan', 'neighbourhood_group'].isnull().sum())"
   ]
  },
  {
   "cell_type": "code",
   "execution_count": 1052,
   "metadata": {},
   "outputs": [
    {
     "name": "stdout",
     "output_type": "stream",
     "text": [
      "Number of nulls in 'neighbourhood_group' before mapping: 18322\n",
      "Number of nulls in 'neighbourhood_group' before mapping: 0\n"
     ]
    }
   ],
   "source": [
    "# Dictionary of Milan's neighbourhoods with their corresponding higher-level groupings\n",
    "milan_neighbourhoods_groupings = {\n",
    "    'Tibaldi': 'Zone 5',\n",
    "    'Navigli': 'Zone 6',\n",
    "    'Sarpi': 'Zone 1',\n",
    "    'Viale Monza': 'Zone 2',\n",
    "    'Buenos Aires - Venezia': 'Zone 3',\n",
    "    'Magenta - S. Vittore': 'Zone 1',\n",
    "    'Centrale': 'Zone 2',\n",
    "    'Xxii Marzo': 'Zone 4',\n",
    "    'Brera': 'Zone 1',\n",
    "    'Duomo': 'Zone 1',\n",
    "    'Ticinese': 'Zone 1',\n",
    "    'Isola': 'Zone 9',\n",
    "    'Bande Nere': 'Zone 7',\n",
    "    'Washington': 'Zone 7',\n",
    "    'Umbria - Molise': 'Zone 4',\n",
    "    'Parco Forlanini - Ortica': 'Zone 3',\n",
    "    'Lambrate': 'Zone 3',\n",
    "    'Villapizzone': 'Zone 8',\n",
    "    'Guastalla': 'Zone 1',\n",
    "    \"Citta' Studi\": 'Zone 3',\n",
    "    'Stadera': 'Zone 5',\n",
    "    'S. Siro': 'Zone 7',\n",
    "    'S. Cristoforo': 'Zone 6',\n",
    "    'Giambellino': 'Zone 6',\n",
    "    'Padova': 'Zone 2',\n",
    "    'Loreto': 'Zone 2',\n",
    "    'De Angeli - Monte Rosa': 'Zone 7',\n",
    "    'Bovisasca': 'Zone 9',\n",
    "    'Porta Romana': 'Zone 4',\n",
    "    'Tortona': 'Zone 6',\n",
    "    'Gratosoglio - Ticinello': 'Zone 5',\n",
    "    'Vigentina': 'Zone 5',\n",
    "    'Bicocca': 'Zone 9',\n",
    "    'Garibaldi Repubblica': 'Zone 9',\n",
    "    'Ghisolfa': 'Zone 9',\n",
    "    'Ripamonti': 'Zone 5',\n",
    "    'Portello': 'Zone 8',\n",
    "    'Sacco': 'Zone 8',\n",
    "    'Parco Lambro - Cimiano': 'Zone 3',\n",
    "    'Ronchetto Sul Naviglio': 'Zone 6',\n",
    "    'Bovisa': 'Zone 9',\n",
    "    'Lodi - Corvetto': 'Zone 4',\n",
    "    'Forze Armate': 'Zone 7',\n",
    "    'Baggio': 'Zone 7',\n",
    "    'Barona': 'Zone 6',\n",
    "    'Pagano': 'Zone 1',\n",
    "    'Farini': 'Zone 9',\n",
    "    'Scalo Romana': 'Zone 5',\n",
    "    'Corsica': 'Zone 4',\n",
    "    'Greco': 'Zone 2',\n",
    "    'Gallaratese': 'Zone 8',\n",
    "    'Ex Om - Morivione': 'Zone 5',\n",
    "    'Ortomercato': 'Zone 4',\n",
    "    'Maciachini - Maggiolina': 'Zone 9',\n",
    "    \"Niguarda - Ca' Granda\": 'Zone 9',\n",
    "    'Maggiore - Musocco': 'Zone 8',\n",
    "    'Lorenteggio': 'Zone 6',\n",
    "    'Dergano': 'Zone 9',\n",
    "    'Tre Torri': 'Zone 8',\n",
    "    'Adriano': 'Zone 2',\n",
    "    'Quinto Romano': 'Zone 7',\n",
    "    'Quarto Cagnino': 'Zone 7',\n",
    "    'Comasina': 'Zone 9',\n",
    "    'Rogoredo': 'Zone 4',\n",
    "    'Qt 8': 'Zone 8',\n",
    "    'Selinunte': 'Zone 7',\n",
    "    'Mecenate': 'Zone 4',\n",
    "    'Quarto Oggiaro': 'Zone 8',\n",
    "    'Triulzo Superiore': 'Zone 5',\n",
    "    'Affori': 'Zone 9',\n",
    "    'Bruzzano': 'Zone 9',\n",
    "    \"Parco Monlue' - Ponte Lambro\": 'Zone 4',\n",
    "    'Chiaravalle': 'Zone 5',\n",
    "    'Giardini Porta Venezia': 'Zone 1',\n",
    "    'Parco Sempione': 'Zone 1',\n",
    "    'Parco Bosco In Città': 'Zone 8',\n",
    "    'Parco Bosco In Citt\\x85': 'Zone 8',\n",
    "    'Parco Agricolo Sud': 'Zone 5',\n",
    "    'Figino': 'Zone 7',\n",
    "    'Parco Nord': 'Zone 9',\n",
    "    'Parco Delle Abbazie': 'Zone 5',\n",
    "    'Parco Dei Navigli': 'Zone 6',\n",
    "    'Trenno': 'Zone 8',\n",
    "    'Cantalupa': 'Zone 7',\n",
    "    'Quintosole': 'Zone 5',\n",
    "    'Muggiano': 'Zone 7',\n",
    "    'Stephenson': 'Zone 8',\n",
    "    'Cascina Triulza - Expo': 'Zone 8'\n",
    "}\n",
    "\n",
    "# Print number of nulls in neighbourhood_group before mapping\n",
    "print(\"Number of nulls in 'neighbourhood_group' before mapping:\", df.loc[df['city'] == 'Milan', 'neighbourhood_group'].isnull().sum())\n",
    "\n",
    "# Map the neighbourhood to the corresponding higher-level region for Sydney\n",
    "df.loc[df['city'] == 'Milan', 'neighbourhood_group'] = df.loc[df['city'] == 'Milan', 'neighbourhood'].map(milan_neighbourhoods_groupings)\n",
    "\n",
    "# Print number of nulls in neighbourhood_group before mapping\n",
    "print(\"Number of nulls in 'neighbourhood_group' before mapping:\", df.loc[df['city'] == 'Milan', 'neighbourhood_group'].isnull().sum())"
   ]
  },
  {
   "cell_type": "markdown",
   "metadata": {},
   "source": [
    "Corrección de los 4 registros que tenían mál el neighbourhood. Cambio de 'Parco Bosco In Citt\\x85' a 'Parco Bosco In Città'"
   ]
  },
  {
   "cell_type": "code",
   "execution_count": 1053,
   "metadata": {},
   "outputs": [],
   "source": [
    "# Update Milan's neighbourhood from 'Parco Bosco In Citt\\x85' to 'Parco Bosco In Città'\n",
    "df.loc[df['city'] == 'Milan', 'neighbourhood'] = df.loc[df['city'] == 'Milan', 'neighbourhood'].replace('Parco Bosco In Citt\\x85', 'Parco Bosco In Città')"
   ]
  },
  {
   "cell_type": "markdown",
   "metadata": {},
   "source": [
    "#### Tokyo"
   ]
  },
  {
   "cell_type": "code",
   "execution_count": 1054,
   "metadata": {},
   "outputs": [
    {
     "name": "stdout",
     "output_type": "stream",
     "text": [
      "['Shibuya Ku' 'Sumida Ku' 'Nerima Ku' 'Setagaya Ku' 'Arakawa Ku'\n",
      " 'Shinjuku Ku' 'Mitaka Shi' 'Adachi Ku' 'Katsushika Ku' 'Meguro Ku'\n",
      " 'Toshima Ku' 'Minato Ku' 'Shinagawa Ku' 'Suginami Ku' 'Koto Ku'\n",
      " 'Akishima Shi' 'Bunkyo Ku' 'Taito Ku' 'Itabashi Ku' 'Ota Ku' 'Edogawa Ku'\n",
      " 'Machida Shi' 'Kita Ku' 'Higashimurayama Shi' 'Nakano Ku' 'Hino Shi'\n",
      " 'Hachioji Shi' 'Koganei Shi' 'Kokubunji Shi' 'Ogasawara Mura'\n",
      " 'Musashino Shi' 'Okutama Machi' 'Kodaira Shi' 'Akiruno Shi' 'Chiyoda Ku'\n",
      " 'Chuo Ku' 'Fuchu Shi' 'Inagi Shi' 'Fussa Shi' 'Tama Shi' 'Nishitokyo Shi'\n",
      " 'Komae Shi' 'Chofu Shi' 'Hinohara Mura' 'Ome Shi' 'Oshima Machi'\n",
      " 'Kozushima Mura' 'Higashiyamato Shi' 'Hamura Shi' 'Tachikawa Shi'\n",
      " 'Musashimurayama Shi' 'Niijima Mura' 'Hachijo Machi' 'Miyake Mura'\n",
      " 'Kunitachi Shi' 'Higashikurume Shi']\n",
      "Number of nulls in 'neighbourhood_group' before mapping: 11466\n"
     ]
    }
   ],
   "source": [
    "# Select distinct neighbourhoods where city is Milan\n",
    "distinct_neighbourhoods_tokyo = df[df['city'] == 'Tokyo']['neighbourhood'].unique()\n",
    "\n",
    "# Display the distinct neighbourhoods\n",
    "print(distinct_neighbourhoods_tokyo)\n",
    "\n",
    "# Print number of nulls in neighbourhood_group before mapping\n",
    "print(\"Number of nulls in 'neighbourhood_group' before mapping:\", df.loc[df['city'] == 'Tokyo', 'neighbourhood_group'].isnull().sum())"
   ]
  },
  {
   "cell_type": "code",
   "execution_count": 1055,
   "metadata": {},
   "outputs": [
    {
     "name": "stdout",
     "output_type": "stream",
     "text": [
      "Number of nulls in 'neighbourhood_group' before mapping: 11466\n",
      "Number of nulls in 'neighbourhood_group' after mapping: 0\n"
     ]
    }
   ],
   "source": [
    "# Dictionary of Tokyo's neighbourhoods with their corresponding higher-level groupings\n",
    "tokyo_neighbourhoods_groupings = {\n",
    "    'Shibuya Ku': 'Central Tokyo',\n",
    "    'Sumida Ku': 'Eastern Tokyo',\n",
    "    'Nerima Ku': 'Western Tokyo',\n",
    "    'Setagaya Ku': 'Western Tokyo',\n",
    "    'Arakawa Ku': 'Eastern Tokyo',\n",
    "    'Shinjuku Ku': 'Central Tokyo',\n",
    "    'Mitaka Shi': 'Western Tokyo',\n",
    "    'Adachi Ku': 'Northern Tokyo',\n",
    "    'Katsushika Ku': 'Eastern Tokyo',\n",
    "    'Meguro Ku': 'Central Tokyo',\n",
    "    'Toshima Ku': 'Central Tokyo',\n",
    "    'Minato Ku': 'Central Tokyo',\n",
    "    'Shinagawa Ku': 'Central Tokyo',\n",
    "    'Suginami Ku': 'Western Tokyo',\n",
    "    'Koto Ku': 'Eastern Tokyo',\n",
    "    'Akishima Shi': 'Western Tokyo',\n",
    "    'Bunkyo Ku': 'Central Tokyo',\n",
    "    'Taito Ku': 'Central Tokyo',\n",
    "    'Itabashi Ku': 'Northern Tokyo',\n",
    "    'Ota Ku': 'Southern Tokyo',\n",
    "    'Edogawa Ku': 'Eastern Tokyo',\n",
    "    'Machida Shi': 'Western Tokyo',\n",
    "    'Kita Ku': 'Northern Tokyo',\n",
    "    'Higashimurayama Shi': 'Western Tokyo',\n",
    "    'Nakano Ku': 'Central Tokyo',\n",
    "    'Hino Shi': 'Western Tokyo',\n",
    "    'Hachioji Shi': 'Western Tokyo',\n",
    "    'Koganei Shi': 'Western Tokyo',\n",
    "    'Kokubunji Shi': 'Western Tokyo',\n",
    "    'Ogasawara Mura': 'Islands',\n",
    "    'Musashino Shi': 'Western Tokyo',\n",
    "    'Okutama Machi': 'Western Tokyo',\n",
    "    'Kodaira Shi': 'Western Tokyo',\n",
    "    'Akiruno Shi': 'Western Tokyo',\n",
    "    'Chiyoda Ku': 'Central Tokyo',\n",
    "    'Chuo Ku': 'Central Tokyo',\n",
    "    'Fuchu Shi': 'Western Tokyo',\n",
    "    'Inagi Shi': 'Western Tokyo',\n",
    "    'Fussa Shi': 'Western Tokyo',\n",
    "    'Tama Shi': 'Western Tokyo',\n",
    "    'Nishitokyo Shi': 'Western Tokyo',\n",
    "    'Komae Shi': 'Western Tokyo',\n",
    "    'Chofu Shi': 'Western Tokyo',\n",
    "    'Hinohara Mura': 'Western Tokyo',\n",
    "    'Ome Shi': 'Western Tokyo',\n",
    "    'Oshima Machi': 'Islands',\n",
    "    'Kozushima Mura': 'Islands',\n",
    "    'Higashiyamato Shi': 'Western Tokyo',\n",
    "    'Hamura Shi': 'Western Tokyo',\n",
    "    'Tachikawa Shi': 'Western Tokyo',\n",
    "    'Musashimurayama Shi': 'Western Tokyo',\n",
    "    'Niijima Mura': 'Islands',\n",
    "    'Hachijo Machi': 'Islands',\n",
    "    'Miyake Mura': 'Islands',\n",
    "    'Kunitachi Shi': 'Western Tokyo',\n",
    "    'Higashikurume Shi': 'Western Tokyo'\n",
    "}\n",
    "\n",
    "# Print number of nulls in neighbourhood_group before mapping\n",
    "print(\"Number of nulls in 'neighbourhood_group' before mapping:\", df.loc[df['city'] == 'Tokyo', 'neighbourhood_group'].isnull().sum())\n",
    "\n",
    "# Map the neighbourhood to the corresponding higher-level region for Tokyo\n",
    "df.loc[df['city'] == 'Tokyo', 'neighbourhood_group'] = df.loc[df['city'] == 'Tokyo', 'neighbourhood'].map(tokyo_neighbourhoods_groupings)\n",
    "\n",
    "# Print number of nulls in neighbourhood_group after mapping\n",
    "print(\"Number of nulls in 'neighbourhood_group' after mapping:\", df.loc[df['city'] == 'Tokyo', 'neighbourhood_group'].isnull().sum())"
   ]
  },
  {
   "cell_type": "code",
   "execution_count": 1056,
   "metadata": {},
   "outputs": [
    {
     "name": "stdout",
     "output_type": "stream",
     "text": [
      "<class 'pandas.core.frame.DataFrame'>\n",
      "RangeIndex: 220031 entries, 0 to 220030\n",
      "Data columns (total 20 columns):\n",
      " #   Column                          Non-Null Count   Dtype         \n",
      "---  ------                          --------------   -----         \n",
      " 0   id                              220031 non-null  int64         \n",
      " 1   name                            219964 non-null  object        \n",
      " 2   host_id                         220031 non-null  int64         \n",
      " 3   host_name                       219325 non-null  object        \n",
      " 4   neighbourhood_group             220031 non-null  object        \n",
      " 5   neighbourhood                   220031 non-null  object        \n",
      " 6   latitude                        220031 non-null  float64       \n",
      " 7   longitude                       220031 non-null  float64       \n",
      " 8   room_type                       220031 non-null  object        \n",
      " 9   price                           220031 non-null  int64         \n",
      " 10  minimum_nights                  220031 non-null  int64         \n",
      " 11  number_of_reviews               220031 non-null  int64         \n",
      " 12  last_review                     220031 non-null  datetime64[ns]\n",
      " 13  reviews_per_month               220031 non-null  float64       \n",
      " 14  calculated_host_listings_count  208565 non-null  float64       \n",
      " 15  availability_365                208565 non-null  float64       \n",
      " 16  city                            220031 non-null  object        \n",
      " 17  date_published                  220031 non-null  datetime64[ns]\n",
      " 18  price_usd                       220031 non-null  float64       \n",
      " 19  price_eur                       220031 non-null  float64       \n",
      "dtypes: datetime64[ns](2), float64(7), int64(5), object(6)\n",
      "memory usage: 33.6+ MB\n"
     ]
    }
   ],
   "source": [
    "df.info()"
   ]
  },
  {
   "cell_type": "code",
   "execution_count": 1057,
   "metadata": {},
   "outputs": [
    {
     "data": {
      "text/html": [
       "<div>\n",
       "<style scoped>\n",
       "    .dataframe tbody tr th:only-of-type {\n",
       "        vertical-align: middle;\n",
       "    }\n",
       "\n",
       "    .dataframe tbody tr th {\n",
       "        vertical-align: top;\n",
       "    }\n",
       "\n",
       "    .dataframe thead th {\n",
       "        text-align: right;\n",
       "    }\n",
       "</style>\n",
       "<table border=\"1\" class=\"dataframe\">\n",
       "  <thead>\n",
       "    <tr style=\"text-align: right;\">\n",
       "      <th></th>\n",
       "      <th>id</th>\n",
       "      <th>name</th>\n",
       "      <th>host_id</th>\n",
       "      <th>host_name</th>\n",
       "      <th>neighbourhood_group</th>\n",
       "      <th>neighbourhood</th>\n",
       "      <th>latitude</th>\n",
       "      <th>longitude</th>\n",
       "      <th>room_type</th>\n",
       "      <th>price</th>\n",
       "      <th>minimum_nights</th>\n",
       "      <th>number_of_reviews</th>\n",
       "      <th>last_review</th>\n",
       "      <th>reviews_per_month</th>\n",
       "      <th>calculated_host_listings_count</th>\n",
       "      <th>availability_365</th>\n",
       "      <th>city</th>\n",
       "      <th>date_published</th>\n",
       "      <th>price_usd</th>\n",
       "      <th>price_eur</th>\n",
       "    </tr>\n",
       "  </thead>\n",
       "  <tbody>\n",
       "    <tr>\n",
       "      <th>0</th>\n",
       "      <td>11551</td>\n",
       "      <td>Arty and Bright London Apartment in Zone 2</td>\n",
       "      <td>43039</td>\n",
       "      <td>Adriano</td>\n",
       "      <td>Central</td>\n",
       "      <td>Lambeth</td>\n",
       "      <td>51.46225</td>\n",
       "      <td>-0.11732</td>\n",
       "      <td>Entire home/apt</td>\n",
       "      <td>88</td>\n",
       "      <td>3</td>\n",
       "      <td>185</td>\n",
       "      <td>2019-09-15</td>\n",
       "      <td>1.58</td>\n",
       "      <td>2.0</td>\n",
       "      <td>336.0</td>\n",
       "      <td>London</td>\n",
       "      <td>2010-02-06</td>\n",
       "      <td>113.87</td>\n",
       "      <td>102.06</td>\n",
       "    </tr>\n",
       "    <tr>\n",
       "      <th>1</th>\n",
       "      <td>13913</td>\n",
       "      <td>Holiday London DB Room Let-on going</td>\n",
       "      <td>54730</td>\n",
       "      <td>Alina</td>\n",
       "      <td>Central</td>\n",
       "      <td>Islington</td>\n",
       "      <td>51.56802</td>\n",
       "      <td>-0.11121</td>\n",
       "      <td>Private room</td>\n",
       "      <td>65</td>\n",
       "      <td>1</td>\n",
       "      <td>19</td>\n",
       "      <td>2019-10-07</td>\n",
       "      <td>0.17</td>\n",
       "      <td>2.0</td>\n",
       "      <td>365.0</td>\n",
       "      <td>London</td>\n",
       "      <td>2010-08-06</td>\n",
       "      <td>84.11</td>\n",
       "      <td>75.39</td>\n",
       "    </tr>\n",
       "    <tr>\n",
       "      <th>2</th>\n",
       "      <td>90700</td>\n",
       "      <td>Sunny Notting Hill flat &amp; terrace</td>\n",
       "      <td>491286</td>\n",
       "      <td>Chil</td>\n",
       "      <td>Central</td>\n",
       "      <td>Kensington and Chelsea</td>\n",
       "      <td>51.51074</td>\n",
       "      <td>-0.19853</td>\n",
       "      <td>Entire home/apt</td>\n",
       "      <td>105</td>\n",
       "      <td>2</td>\n",
       "      <td>339</td>\n",
       "      <td>2019-07-30</td>\n",
       "      <td>3.33</td>\n",
       "      <td>2.0</td>\n",
       "      <td>268.0</td>\n",
       "      <td>London</td>\n",
       "      <td>2011-06-06</td>\n",
       "      <td>135.87</td>\n",
       "      <td>121.78</td>\n",
       "    </tr>\n",
       "    <tr>\n",
       "      <th>3</th>\n",
       "      <td>15400</td>\n",
       "      <td>Bright Chelsea  Apartment. Chelsea!</td>\n",
       "      <td>60302</td>\n",
       "      <td>Philippa</td>\n",
       "      <td>Central</td>\n",
       "      <td>Kensington and Chelsea</td>\n",
       "      <td>51.48796</td>\n",
       "      <td>-0.16898</td>\n",
       "      <td>Entire home/apt</td>\n",
       "      <td>100</td>\n",
       "      <td>30</td>\n",
       "      <td>88</td>\n",
       "      <td>2019-09-23</td>\n",
       "      <td>0.73</td>\n",
       "      <td>1.0</td>\n",
       "      <td>158.0</td>\n",
       "      <td>London</td>\n",
       "      <td>2009-11-06</td>\n",
       "      <td>129.40</td>\n",
       "      <td>115.98</td>\n",
       "    </tr>\n",
       "    <tr>\n",
       "      <th>4</th>\n",
       "      <td>92399</td>\n",
       "      <td>MODERN SELF CONTAINED ARCHITECT FLATLET, ISLIN...</td>\n",
       "      <td>497366</td>\n",
       "      <td>Andrea &amp; Mark</td>\n",
       "      <td>Central</td>\n",
       "      <td>Islington</td>\n",
       "      <td>51.55071</td>\n",
       "      <td>-0.08547</td>\n",
       "      <td>Private room</td>\n",
       "      <td>77</td>\n",
       "      <td>1</td>\n",
       "      <td>207</td>\n",
       "      <td>2019-10-21</td>\n",
       "      <td>2.04</td>\n",
       "      <td>2.0</td>\n",
       "      <td>336.0</td>\n",
       "      <td>London</td>\n",
       "      <td>2011-06-06</td>\n",
       "      <td>99.64</td>\n",
       "      <td>89.30</td>\n",
       "    </tr>\n",
       "  </tbody>\n",
       "</table>\n",
       "</div>"
      ],
      "text/plain": [
       "      id                                               name  host_id  \\\n",
       "0  11551         Arty and Bright London Apartment in Zone 2    43039   \n",
       "1  13913                Holiday London DB Room Let-on going    54730   \n",
       "2  90700                  Sunny Notting Hill flat & terrace   491286   \n",
       "3  15400                Bright Chelsea  Apartment. Chelsea!    60302   \n",
       "4  92399  MODERN SELF CONTAINED ARCHITECT FLATLET, ISLIN...   497366   \n",
       "\n",
       "       host_name neighbourhood_group           neighbourhood  latitude  \\\n",
       "0        Adriano             Central                 Lambeth  51.46225   \n",
       "1          Alina             Central               Islington  51.56802   \n",
       "2           Chil             Central  Kensington and Chelsea  51.51074   \n",
       "3       Philippa             Central  Kensington and Chelsea  51.48796   \n",
       "4  Andrea & Mark             Central               Islington  51.55071   \n",
       "\n",
       "   longitude        room_type  price  minimum_nights  number_of_reviews  \\\n",
       "0   -0.11732  Entire home/apt     88               3                185   \n",
       "1   -0.11121     Private room     65               1                 19   \n",
       "2   -0.19853  Entire home/apt    105               2                339   \n",
       "3   -0.16898  Entire home/apt    100              30                 88   \n",
       "4   -0.08547     Private room     77               1                207   \n",
       "\n",
       "  last_review  reviews_per_month  calculated_host_listings_count  \\\n",
       "0  2019-09-15               1.58                             2.0   \n",
       "1  2019-10-07               0.17                             2.0   \n",
       "2  2019-07-30               3.33                             2.0   \n",
       "3  2019-09-23               0.73                             1.0   \n",
       "4  2019-10-21               2.04                             2.0   \n",
       "\n",
       "   availability_365    city date_published  price_usd  price_eur  \n",
       "0             336.0  London     2010-02-06     113.87     102.06  \n",
       "1             365.0  London     2010-08-06      84.11      75.39  \n",
       "2             268.0  London     2011-06-06     135.87     121.78  \n",
       "3             158.0  London     2009-11-06     129.40     115.98  \n",
       "4             336.0  London     2011-06-06      99.64      89.30  "
      ]
     },
     "execution_count": 1057,
     "metadata": {},
     "output_type": "execute_result"
    }
   ],
   "source": [
    "df.head()"
   ]
  },
  {
   "cell_type": "markdown",
   "metadata": {},
   "source": [
    "#### Análisis de nulos"
   ]
  },
  {
   "cell_type": "code",
   "execution_count": 1058,
   "metadata": {},
   "outputs": [
    {
     "data": {
      "text/plain": [
       "<Axes: >"
      ]
     },
     "execution_count": 1058,
     "metadata": {},
     "output_type": "execute_result"
    },
    {
     "data": {
      "image/png": "[encoded data removed]",
      "text/plain": [
       "<Figure size 2400x1000 with 3 Axes>"
      ]
     },
     "metadata": {},
     "output_type": "display_data"
    }
   ],
   "source": [
    "msno.bar(df)"
   ]
  },
  {
   "cell_type": "markdown",
   "metadata": {},
   "source": [
    "#### Corregir los nulos en calculated_host_listings_count\n",
    "\n",
    "Dado que cada registro es una propiedad, se rellena el campo con la cuenta de registros por propietario.\n",
    "\n",
    "Nota: No se consideran para el cálculo los registros que tienen la bandera active_ad apagada. Tampoco se actualizan"
   ]
  },
  {
   "cell_type": "code",
   "execution_count": 1059,
   "metadata": {
    "vscode": {
     "languageId": "ruby"
    }
   },
   "outputs": [],
   "source": [
    "# Group by 'host_id' and count the number of records for each group\n",
    "host_counts = df.groupby(['host_id']).size().reset_index(name='host_count')\n",
    "\n",
    "# Merge the counts back into the original DataFrame\n",
    "df = df.merge(host_counts, on=['host_id'], how='left')\n",
    "\n",
    "# Fill null values in 'calculated_host_listings_count' with the corresponding 'host_count'\n",
    "df['calculated_host_listings_count'] = df['calculated_host_listings_count'].fillna(df['host_count'])\n",
    "\n",
    "# Drop the intermediate 'host_count' column\n",
    "df.drop(columns=['host_count'], inplace=True)"
   ]
  },
  {
   "cell_type": "markdown",
   "metadata": {},
   "source": [
    "#### Corregir los nulos en availability_365\n",
    "\n",
    "* Los nulos en availability_365 se corrigen de la siguiente manera:\n",
    "\n",
    "* Si el mismo host tiene otras propiedades con datos en el campo availability_365, el valor nulo se rellena con el promedio de availability_365 de ese cliente.\n",
    "\n",
    "* Si el mismo host no tiene otras propiedades con las cuales calcular el promedio de availability_365, se rellena con 0.\n",
    "\n"
   ]
  },
  {
   "cell_type": "code",
   "execution_count": 1060,
   "metadata": {},
   "outputs": [],
   "source": [
    "# Function to calculate the replacement value for null availability_365\n",
    "def replace_null_availability(row, df):\n",
    "    if pd.isnull(row['availability_365']):\n",
    "        host_id = row['host_id']\n",
    "        # Get all rows with the same host_id\n",
    "        host_rows = df[df['host_id'] == host_id]\n",
    "        # Calculate the average availability_365 excluding null values\n",
    "        avg_availability = host_rows['availability_365'].mean(skipna=True)\n",
    "        # If the average is NaN (i.e., all values are null), return 0\n",
    "        if pd.isnull(avg_availability):\n",
    "            return 0\n",
    "        else:\n",
    "            return avg_availability\n",
    "    else:\n",
    "        return row['availability_365']\n",
    "\n",
    "# Apply the function to each row in the DataFrame\n",
    "df['availability_365'] = df.apply(lambda row: replace_null_availability(row, df), axis=1)\n"
   ]
  },
  {
   "cell_type": "markdown",
   "metadata": {},
   "source": [
    "## Ingresos potenciales"
   ]
  },
  {
   "cell_type": "markdown",
   "metadata": {},
   "source": [
    "#### Ingresos potenciales por propiedad en usd y eur\n",
    "\n"
   ]
  },
  {
   "cell_type": "code",
   "execution_count": 1061,
   "metadata": {
    "vscode": {
     "languageId": "ruby"
    }
   },
   "outputs": [],
   "source": [
    "# Create new columns by multiplying availability_365 by price, price_usd, and price_eur\n",
    "#df['y_income_local'] = df.apply(lambda row: round(row['availability_365'] * row['price'], 2), axis=1)\n",
    "#df['y_income_usd'] = df.apply(lambda row: round(row['availability_365'] * row['price_usd'], 2), axis=1)\n",
    "#df['y_income_eur'] = df.apply(lambda row: round(row['availability_365'] * row['price_eur'], 2), axis=1)\n"
   ]
  },
  {
   "cell_type": "markdown",
   "metadata": {},
   "source": [
    "### Analisis de Ouliers"
   ]
  },
  {
   "cell_type": "markdown",
   "metadata": {},
   "source": [
    "#### Outliers en precio\n",
    "\n",
    "El análisis se hace sólo hacia el extremo superior. Este puede estar influenciado por los extras que cada anfitrión define, además de la ubicación. Este análisis se hace por ciudad + barrio + tipo de habitación. Los outliers son aquellos se han definido en este proyecto como aquellos registros que, por precio, exceden 2,5 veces el IQR para su área específica."
   ]
  },
  {
   "cell_type": "code",
   "execution_count": 1062,
   "metadata": {},
   "outputs": [],
   "source": [
    "# Group by city and room_type and calculate the IQR for price_usd\n",
    "iqr_data = df.groupby(['city', 'neighbourhood', 'room_type'])['price_usd'].agg(\n",
    "    Q1=lambda x: x.quantile(0.25),\n",
    "    Q3=lambda x: x.quantile(0.75)\n",
    ").reset_index()\n",
    "\n",
    "# Calculate the IQR\n",
    "iqr_data['IQR'] = iqr_data['Q3'] - iqr_data['Q1']\n",
    "\n",
    "# Calculate the lower and upper bounds for outliers\n",
    "iqr_data['upper_bound'] = iqr_data['Q3'] + 2.5 * iqr_data['IQR']\n",
    "\n",
    "# Merge the IQR data back into the original DataFrame\n",
    "df = df.merge(iqr_data[['city', 'neighbourhood', 'room_type', 'upper_bound']], on=['city', 'neighbourhood', 'room_type'], how='left')\n",
    "\n",
    "# Identify outliers\n",
    "df['is_outlier'] = df['price_usd'] > df['upper_bound']\n",
    "\n",
    "# Group by city, neighbourhood_group, and room_type to count the number of lower and upper outliers\n",
    "upper_outlier_counts = df.groupby(['city', 'neighbourhood', 'room_type'])['is_outlier'].sum().reset_index(name='upper_outlier_count')\n",
    "\n",
    "# Merge the outlier counts back into the IQR data\n",
    "iqr_data = iqr_data.merge(upper_outlier_counts, on=['city', 'neighbourhood', 'room_type'], how='left')\n",
    "\n",
    "# Drop the 'upper_bound' column from the DataFrame\n",
    "df.drop(columns=['upper_bound'], inplace=True)\n"
   ]
  },
  {
   "cell_type": "code",
   "execution_count": 1063,
   "metadata": {
    "vscode": {
     "languageId": "ruby"
    }
   },
   "outputs": [
    {
     "name": "stdout",
     "output_type": "stream",
     "text": [
      "<class 'pandas.core.frame.DataFrame'>\n",
      "RangeIndex: 220031 entries, 0 to 220030\n",
      "Data columns (total 21 columns):\n",
      " #   Column                          Non-Null Count   Dtype         \n",
      "---  ------                          --------------   -----         \n",
      " 0   id                              220031 non-null  int64         \n",
      " 1   name                            219964 non-null  object        \n",
      " 2   host_id                         220031 non-null  int64         \n",
      " 3   host_name                       219325 non-null  object        \n",
      " 4   neighbourhood_group             220031 non-null  object        \n",
      " 5   neighbourhood                   220031 non-null  object        \n",
      " 6   latitude                        220031 non-null  float64       \n",
      " 7   longitude                       220031 non-null  float64       \n",
      " 8   room_type                       220031 non-null  object        \n",
      " 9   price                           220031 non-null  int64         \n",
      " 10  minimum_nights                  220031 non-null  int64         \n",
      " 11  number_of_reviews               220031 non-null  int64         \n",
      " 12  last_review                     220031 non-null  datetime64[ns]\n",
      " 13  reviews_per_month               220031 non-null  float64       \n",
      " 14  calculated_host_listings_count  220031 non-null  float64       \n",
      " 15  availability_365                220031 non-null  float64       \n",
      " 16  city                            220031 non-null  object        \n",
      " 17  date_published                  220031 non-null  datetime64[ns]\n",
      " 18  price_usd                       220031 non-null  float64       \n",
      " 19  price_eur                       220031 non-null  float64       \n",
      " 20  is_outlier                      220031 non-null  bool          \n",
      "dtypes: bool(1), datetime64[ns](2), float64(7), int64(5), object(6)\n",
      "memory usage: 33.8+ MB\n"
     ]
    }
   ],
   "source": [
    "df.info()"
   ]
  },
  {
   "cell_type": "markdown",
   "metadata": {},
   "source": [
    "Para enriquecer tu dataset de propiedades de AirBnB y realizar un análisis más completo del mercado inmobiliario, puedes considerar añadir las siguientes fuentes de datos:\n",
    "\n",
    "### 1. **Datos del mercado inmobiliario:**\n",
    "   - **Precios de la vivienda por zona:** Puedes obtener datos históricos y actuales de precios de compra y renta por área o código postal para comparar el valor de las propiedades en tu dataset.\n",
    "     - Fuentes: Agencias inmobiliarias locales, portales como Zillow (para Nueva York) o Idealista (para Madrid y Milán).\n",
    "\n",
    "### 2. **Datos demográficos:**\n",
    "   - **Ingreso medio por área:** Los ingresos de los residentes en las diferentes áreas pueden ofrecerte información sobre el poder adquisitivo y la demanda de ciertos tipos de propiedades.\n",
    "   - **Densidad de población:** Datos sobre cuántas personas viven por kilómetro cuadrado te pueden ayudar a comprender la demanda de propiedades en áreas específicas.\n",
    "     - Fuentes: Oficinas estadísticas nacionales o municipales.\n",
    "\n",
    "### 3. **Datos de desarrollo urbano e infraestructura:**\n",
    "   - **Acceso a transporte público:** Información sobre la proximidad a estaciones de metro, tren, autobuses, etc., puede ser un factor clave que influya en los precios de las propiedades.\n",
    "   - **Zonas de desarrollo económico o proyectos de infraestructura:** Áreas que estén siendo desarrolladas o reurbanizadas pueden tener un impacto futuro en los precios.\n",
    "     - Fuentes: Mapas de transporte público, planes de desarrollo urbano de cada ciudad.\n",
    "\n",
    "### 4. **Índices de calidad de vida:**\n",
    "   - **Índices de calidad de vida por barrio:** Incluye variables como seguridad, educación, y acceso a servicios de salud que pueden afectar el atractivo de una propiedad.\n",
    "     - Fuentes: Índices internacionales como los de Mercer o Numbeo.\n",
    "\n",
    "### 5. **Tendencias del turismo y economía local:**\n",
    "   - **Ocupación hotelera y demanda turística:** Dado que las propiedades de AirBnB a menudo están ligadas al turismo, datos sobre la cantidad de turistas que visitan esas áreas, ocupación hotelera o eventos locales puede complementar tu análisis.\n",
    "     - Fuentes: Oficinas de turismo locales, Google Trends.\n",
    "\n",
    "### 6. **Normativas locales sobre alquileres:**\n",
    "   - **Regulaciones de alquileres cortos:** En muchas ciudades, los alquileres de corto plazo (como los de AirBnB) están regulados o restringidos, lo que puede afectar la oferta y los precios.\n",
    "     - Fuentes: Páginas web de gobiernos locales o artículos de medios especializados.\n",
    "\n",
    "Estas capas de datos te permitirán realizar un análisis más detallado, permitiéndote identificar factores externos que influyen en los precios y en la oferta y demanda de propiedades."
   ]
  },
  {
   "cell_type": "markdown",
   "metadata": {},
   "source": [
    "#### Exportar el dataframe df a csv para un analisis en otra herramienta"
   ]
  },
  {
   "cell_type": "code",
   "execution_count": 1064,
   "metadata": {},
   "outputs": [],
   "source": [
    "df.to_csv('airbnb_data_preprocessed.csv', index=False, encoding='utf-8', sep=',', decimal='.')"
   ]
  },
  {
   "cell_type": "code",
   "execution_count": 1065,
   "metadata": {},
   "outputs": [],
   "source": [
    "df.to_parquet('airbnb_data_preprocessed.parquet', index=False)"
   ]
  },
  {
   "cell_type": "markdown",
   "metadata": {},
   "source": [
    "#### A Partir de aquí, se avanza en el analisis tanto en PowerBI como por aquí"
   ]
  }
 ],
 "metadata": {
  "kernelspec": {
   "display_name": "airbnb_analytics",
   "language": "python",
   "name": "python3"
  },
  "language_info": {
   "codemirror_mode": {
    "name": "ipython",
    "version": 3
   },
   "file_extension": ".py",
   "mimetype": "text/x-python",
   "name": "python",
   "nbconvert_exporter": "python",
   "pygments_lexer": "ipython3",
   "version": "3.12.7"
  }
 },
 "nbformat": 4,
 "nbformat_minor": 2
}
